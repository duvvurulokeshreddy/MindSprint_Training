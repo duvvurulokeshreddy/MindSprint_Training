{
 "cells": [
  {
   "cell_type": "code",
   "execution_count": 1,
   "id": "559cbc16-a12c-4f19-8763-11d3436f50c3",
   "metadata": {},
   "outputs": [
    {
     "name": "stdout",
     "output_type": "stream",
     "text": [
      "[10, 20, 30, 40]\n",
      "30\n",
      "[10, 20, 30, 40, 60]\n",
      "[10, 20, 25, 30, 40, 60]\n",
      "60 Removed\n",
      "5\n",
      "Minimum Value 10\n",
      "Maximum Value 40\n",
      "Sum is :  125\n"
     ]
    }
   ],
   "source": [
    "#List\n",
    "mylist = [10,20,30,40]\n",
    "print(mylist)\n",
    "print(mylist[2])\n",
    "mylist.append(60)\n",
    "print(mylist)\n",
    "#insert element at some index\n",
    "mylist.insert(2,25)\n",
    "print(mylist)\n",
    "#Data Removal\n",
    "data=mylist.pop() ## its removing last element which you save in some variable\n",
    "print(data, \"Removed\")\n",
    "print(len(mylist)) # checking Length\n",
    "print(\"Minimum Value\", min(mylist))\n",
    "print(\"Maximum Value\", max(mylist))\n",
    "print(\"Sum is : \", sum(mylist))"
   ]
  },
  {
   "cell_type": "code",
   "execution_count": null,
   "id": "536b6a9b-35a6-4d5b-b3e3-82960ca2b577",
   "metadata": {},
   "outputs": [
    {
     "name": "stdout",
     "output_type": "stream",
     "text": [
      "\n",
      "To-Do List Menu:\n",
      "1. Add a to-do\n",
      "2. Remove a to-do\n",
      "3. View all to-dos\n",
      "4. Exit\n"
     ]
    },
    {
     "name": "stdin",
     "output_type": "stream",
     "text": [
      "Enter your choice (1-4):  1\n",
      "Enter a to-do item:  1,2,3,4\n"
     ]
    },
    {
     "name": "stdout",
     "output_type": "stream",
     "text": [
      "To-do \"1,2,3,4\" added.\n",
      "\n",
      "To-Do List Menu:\n",
      "1. Add a to-do\n",
      "2. Remove a to-do\n",
      "3. View all to-dos\n",
      "4. Exit\n"
     ]
    },
    {
     "name": "stdin",
     "output_type": "stream",
     "text": [
      "Enter your choice (1-4):  2\n",
      "Enter the to-do item to remove:  3\n"
     ]
    },
    {
     "name": "stdout",
     "output_type": "stream",
     "text": [
      "To-do \"3\" not found.\n",
      "\n",
      "To-Do List Menu:\n",
      "1. Add a to-do\n",
      "2. Remove a to-do\n",
      "3. View all to-dos\n",
      "4. Exit\n"
     ]
    },
    {
     "name": "stdin",
     "output_type": "stream",
     "text": [
      "Enter your choice (1-4):  3\n"
     ]
    },
    {
     "name": "stdout",
     "output_type": "stream",
     "text": [
      "Current to-dos: ['1,2,3,4']\n",
      "\n",
      "To-Do List Menu:\n",
      "1. Add a to-do\n",
      "2. Remove a to-do\n",
      "3. View all to-dos\n",
      "4. Exit\n"
     ]
    }
   ],
   "source": [
    "todo_list = []\n",
    " \n",
    " \n",
    "def add_todo():\n",
    "    todo = input(\"Enter a to-do item: \")\n",
    "    todo_list.append(todo)\n",
    "    print(f'To-do \"{todo}\" added.')\n",
    " \n",
    "def remove_todo():\n",
    "    todo = input(\"Enter the to-do item to remove: \")\n",
    "    if todo in todo_list:\n",
    "        todo_list.remove(todo)\n",
    "        print(f'To-do \"{todo}\" removed.')\n",
    "    else:\n",
    "        print(f'To-do \"{todo}\" not found.')\n",
    " \n",
    "def get_all_todos():\n",
    "    return todo_list\n",
    " \n",
    "def menu():\n",
    "    while True:\n",
    "        print(\"\\nTo-Do List Menu:\")\n",
    "        print(\"1. Add a to-do\")\n",
    "        print(\"2. Remove a to-do\")\n",
    "        print(\"3. View all to-dos\")\n",
    "        print(\"4. Exit\")\n",
    "        choice = input(\"Enter your choice (1-4): \")\n",
    " \n",
    "        if choice == '1':\n",
    "            add_todo()\n",
    "        elif choice == '2':\n",
    "            remove_todo()\n",
    "        elif choice == '3':\n",
    "            print(\"Current to-dos:\", get_all_todos())\n",
    "        elif choice == '4':\n",
    "            print(\"Exiting the to-do list program.\")\n",
    "            break\n",
    "        else:\n",
    "            print(\"Invalid choice. Please enter a number between 1 and 4.\")\n",
    " \n",
    " \n",
    "menu()\n",
    " "
   ]
  },
  {
   "cell_type": "code",
   "execution_count": null,
   "id": "7ae78539-103a-4a38-8c5b-5c5f9fb23c90",
   "metadata": {},
   "outputs": [],
   "source": []
  }
 ],
 "metadata": {
  "kernelspec": {
   "display_name": "Python 3 (ipykernel)",
   "language": "python",
   "name": "python3"
  },
  "language_info": {
   "codemirror_mode": {
    "name": "ipython",
    "version": 3
   },
   "file_extension": ".py",
   "mimetype": "text/x-python",
   "name": "python",
   "nbconvert_exporter": "python",
   "pygments_lexer": "ipython3",
   "version": "3.13.2"
  }
 },
 "nbformat": 4,
 "nbformat_minor": 5
}
