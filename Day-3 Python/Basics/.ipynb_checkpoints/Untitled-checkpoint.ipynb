{
 "cells": [
  {
   "cell_type": "code",
   "execution_count": 2,
   "id": "cb7af43b-f38f-4ed9-bb89-a6463a2ea5ff",
   "metadata": {},
   "outputs": [
    {
     "name": "stdout",
     "output_type": "stream",
     "text": [
      "HelloWorld\n"
     ]
    }
   ],
   "source": [
    "print(\"HelloWorld\")"
   ]
  },
  {
   "cell_type": "code",
   "execution_count": 17,
   "id": "a8c95f51-3074-4599-a578-bb891dd58e20",
   "metadata": {},
   "outputs": [
    {
     "name": "stdout",
     "output_type": "stream",
     "text": [
      "Number1:  10\n",
      "Number2 20.89\n",
      "Name:  Mind_Sprint\n",
      "<class 'int'>\n",
      "<class 'float'>\n",
      "<class 'str'>\n"
     ]
    }
   ],
   "source": [
    "num1=10\n",
    "num2=20.89\n",
    "name=\"Mind_Sprint\"\n",
    "\n",
    "print(\"Number1: \",num1)\n",
    "print(f\"Number2 {num2}\")\n",
    "print(\"Name: \",name)\n",
    "\n",
    "print(type(num1))\n",
    "print(type(num2))\n",
    "print(type(name))"
   ]
  },
  {
   "cell_type": "code",
   "execution_count": 5,
   "id": "b11a3062-6d9f-4b59-9fa8-48e6862f30e8",
   "metadata": {},
   "outputs": [
    {
     "name": "stdout",
     "output_type": "stream",
     "text": [
      "Orange Orange Orange\n"
     ]
    }
   ],
   "source": [
    "x=y=z=\"Orange\"\n",
    "print(x,y,z)"
   ]
  },
  {
   "cell_type": "code",
   "execution_count": 14,
   "id": "b3265720-11a4-4f29-87d1-3629e7bee00d",
   "metadata": {},
   "outputs": [
    {
     "name": "stdout",
     "output_type": "stream",
     "text": [
      "Orange Banana Cherry\n"
     ]
    }
   ],
   "source": [
    "x,y,z= \"Orange\", \"Banana\", \"Cherry\"\n",
    "print(x,y,z)"
   ]
  },
  {
   "cell_type": "code",
   "execution_count": 11,
   "id": "9761fe00-cbba-49ba-9045-6b9cebc80a75",
   "metadata": {},
   "outputs": [
    {
     "name": "stdout",
     "output_type": "stream",
     "text": [
      "apple Banana Cherry\n",
      "apple\n",
      "appleBananaCherry\n"
     ]
    }
   ],
   "source": [
    "fruits=[\"apple\",\"Banana\",\"Cherry\"]\n",
    "x,y,z=fruits\n",
    "print(x,y,z)\n",
    "print(x)\n",
    "print(x+y+z)"
   ]
  },
  {
   "cell_type": "code",
   "execution_count": 15,
   "id": "40dea201-b90e-4b7a-b408-d1bee2e825b2",
   "metadata": {},
   "outputs": [
    {
     "name": "stdout",
     "output_type": "stream",
     "text": [
      "test1   test2   test3\n"
     ]
    }
   ],
   "source": [
    "## value Assignment to variables\n",
    "x,y,z = \"test1\",\"test2\",\"test3\"\n",
    "print(x,\" \",y,\" \",z)"
   ]
  },
  {
   "cell_type": "code",
   "execution_count": 19,
   "id": "31c5935f-4ebb-4c59-94d5-382fc6532b8a",
   "metadata": {},
   "outputs": [
    {
     "name": "stdin",
     "output_type": "stream",
     "text": [
      "Enter First Number 10\n",
      "Enter The Second Number 40\n"
     ]
    },
    {
     "name": "stdout",
     "output_type": "stream",
     "text": [
      "Additional : 50\n"
     ]
    }
   ],
   "source": [
    "## Taking input from user\n",
    "num1 = input(\"Enter First Number\")\n",
    "num2 = input(\"Enter The Second Number\")\n",
    "\n",
    "print(\"Additional :\", (int(num1)+ int(num2)))"
   ]
  },
  {
   "cell_type": "code",
   "execution_count": 23,
   "id": "21ab48e8-e9bf-4970-bd6f-1320921d40c3",
   "metadata": {},
   "outputs": [
    {
     "name": "stdin",
     "output_type": "stream",
     "text": [
      "Enter First Number 10\n",
      "Enter The Second Number 40\n"
     ]
    },
    {
     "name": "stdout",
     "output_type": "stream",
     "text": [
      "Additional : 50\n"
     ]
    }
   ],
   "source": [
    "num1 = input(\"Enter First Number\")\n",
    "num2 = input(\"Enter The Second Number\")\n",
    "\n",
    "print(\"Additional :\", (int(num1)+ int(num2)))"
   ]
  },
  {
   "cell_type": "code",
   "execution_count": 27,
   "id": "3723f005-76d0-40ed-b051-ad6e8b0dabf2",
   "metadata": {},
   "outputs": [
    {
     "name": "stdout",
     "output_type": "stream",
     "text": [
      "Addition: 13\n",
      "subtraction:  7\n",
      "Multiplication:  30\n",
      "Division:  3.3333333333333335\n",
      "Modulus: 1\n",
      "Exponentiation: 1000\n",
      "flor division:  3\n",
      "Is num1 equals to num2? False\n",
      "Is num1 not equal to num2? True\n",
      "Is num1 greater than num2? True\n",
      "Is num1 less than num2? False\n"
     ]
    }
   ],
   "source": [
    "num1 = 10\n",
    "num2 = 3\n",
    "\n",
    "addition = num1+num2\n",
    "print(\"Addition:\" ,addition)\n",
    "\n",
    "subtraction = num1 - num2\n",
    "print(\"subtraction: \", subtraction)\n",
    "\n",
    "multiplication = num1 * num2\n",
    "print(\"Multiplication: \", multiplication)\n",
    "\n",
    "division = num1 / num2\n",
    "print(\"Division: \",division)\n",
    "\n",
    "modulus = num1 % num2\n",
    "print(\"Modulus:\", modulus)\n",
    "\n",
    "exponentiation = num1 ** num2\n",
    "print(\"Exponentiation:\", exponentiation)\n",
    "\n",
    "float_division =num1 // num2\n",
    "print(\"flor division: \",float_division)\n",
    "\n",
    "print(\"Is num1 equals to num2?\", num1 == num2)\n",
    "\n",
    "print(\"Is num1 not equal to num2?\", num1 != num2)\n",
    "\n",
    "print(\"Is num1 greater than num2?\" , num1 > num2)\n",
    "\n",
    "print(\"Is num1 less than num2?\", num1 < num2)\n"
   ]
  },
  {
   "cell_type": "code",
   "execution_count": 28,
   "id": "28875737-6c0d-48bf-8a00-3553ee6167de",
   "metadata": {},
   "outputs": [
    {
     "name": "stdout",
     "output_type": "stream",
     "text": [
      "initial value: 10\n",
      "After Increment:  15\n",
      "After Decrement:  12\n",
      "After Multiplication:  24\n"
     ]
    }
   ],
   "source": [
    "num = 10\n",
    "print('initial value:', num)\n",
    "\n",
    "num+=5\n",
    "print('After Increment: ', num)\n",
    "\n",
    "num-=3\n",
    "print('After Decrement: ',num)\n",
    "\n",
    "num*=2\n",
    "print('After Multiplication: ', num)"
   ]
  },
  {
   "cell_type": "code",
   "execution_count": 30,
   "id": "1bcceaac-aaf2-4c03-bbad-b272cfbd6b14",
   "metadata": {},
   "outputs": [
    {
     "name": "stdin",
     "output_type": "stream",
     "text": [
      "enter yout email admin@gmail.com\n",
      "enter your password admin@123\n"
     ]
    },
    {
     "name": "stdout",
     "output_type": "stream",
     "text": [
      "True\n"
     ]
    }
   ],
   "source": [
    "email=input(\"enter yout email\")\n",
    "password=input(\"enter your password\")\n",
    "print(email=='admin@gmail.com' and password=='admin@123')"
   ]
  },
  {
   "cell_type": "code",
   "execution_count": 31,
   "id": "97584bad-bbe3-49ba-9ef9-d1b31a795c22",
   "metadata": {},
   "outputs": [
    {
     "name": "stdout",
     "output_type": "stream",
     "text": [
      "Postive Number\n"
     ]
    }
   ],
   "source": [
    "num = 10\n",
    "if num>0:\n",
    "    print(\"Postive Number\")"
   ]
  },
  {
   "cell_type": "code",
   "execution_count": 34,
   "id": "ff1d87e4-2fe5-4023-9c47-2a1d5f231b8e",
   "metadata": {},
   "outputs": [
    {
     "name": "stdout",
     "output_type": "stream",
     "text": [
      "Negative Number\n"
     ]
    }
   ],
   "source": [
    "num = -5\n",
    "if num > 0:\n",
    "    print(\"Postive Number\")\n",
    "else:\n",
    "    print(\"Negative Number\")"
   ]
  },
  {
   "cell_type": "code",
   "execution_count": 42,
   "id": "e9b938b4-6ac5-4b60-802a-d0e3b3b8022c",
   "metadata": {},
   "outputs": [
    {
     "name": "stdin",
     "output_type": "stream",
     "text": [
      "Enter The age 14\n"
     ]
    },
    {
     "name": "stdout",
     "output_type": "stream",
     "text": [
      "it is not eglible for vote\n"
     ]
    }
   ],
   "source": [
    "age = int(input(\"Enter The age\"))\n",
    "if age > 18:\n",
    "    print(\"It is eglible for vote\")\n",
    "else :\n",
    "    print(\"it is not eglible for vote\")"
   ]
  },
  {
   "cell_type": "code",
   "execution_count": 43,
   "id": "572c4fbf-f10d-4c28-9010-c4ade37a18eb",
   "metadata": {},
   "outputs": [
    {
     "name": "stdout",
     "output_type": "stream",
     "text": [
      "positive and odd number\n"
     ]
    }
   ],
   "source": [
    "# Nested if\n",
    "num=15\n",
    "if num>0:\n",
    "    if num % 2== 0:\n",
    "        print(\"Positive and even number\")\n",
    "    else:\n",
    "        print(\"positive and odd number\")\n",
    "else:\n",
    "    print(\"Non Positive Number\")"
   ]
  },
  {
   "cell_type": "code",
   "execution_count": 46,
   "id": "49c84722-3e49-4609-9c18-2c9eede552ab",
   "metadata": {},
   "outputs": [],
   "source": [
    "num = 5\n",
    "if num > 0:\n",
    "    pass\n",
    "else:\n",
    "    print(\"This won't execute\")"
   ]
  },
  {
   "cell_type": "code",
   "execution_count": 53,
   "id": "937432fd-1dd7-412d-bef5-829e37f05d7b",
   "metadata": {},
   "outputs": [
    {
     "name": "stdin",
     "output_type": "stream",
     "text": [
      "enter the marks 100\n"
     ]
    },
    {
     "name": "stdout",
     "output_type": "stream",
     "text": [
      "This is distinct marks\n"
     ]
    }
   ],
   "source": [
    "marks = int(input(\"enter the marks\"))\n",
    "if marks >= 90 and marks <=100:\n",
    "    print(\"This is distinct marks\")\n",
    "elif marks >=70 and marks<=89:\n",
    "    print (\"Grade B\")\n",
    "elif marks >=50 and marks<=69:\n",
    "    print(\"Grade C\")\n",
    "else:\n",
    "    print(\"Fail\")"
   ]
  },
  {
   "cell_type": "code",
   "execution_count": 66,
   "id": "48c9a6ea-d4ec-4758-b7e8-bf6f523ca5aa",
   "metadata": {},
   "outputs": [
    {
     "name": "stdin",
     "output_type": "stream",
     "text": [
      "Enter the number 4\n"
     ]
    },
    {
     "name": "stdout",
     "output_type": "stream",
     "text": [
      "It is Even Number\n"
     ]
    }
   ],
   "source": [
    "number = int(input(\"Enter the number\"))\n",
    "if number>0:\n",
    "    if number %2==0:\n",
    "             print(\"It is Even Number\")\n",
    "    else:\n",
    "        print(\"It is odd Number\")\n",
    "elif number==0:\n",
    "             print(\"It is Zero\")\n",
    "else:\n",
    "    print(\"it is negative number\")\n",
    "             "
   ]
  },
  {
   "cell_type": "code",
   "execution_count": 73,
   "id": "70d7b97e-3e15-4f2e-836a-f759957fb5a5",
   "metadata": {},
   "outputs": [
    {
     "name": "stdin",
     "output_type": "stream",
     "text": [
      "total mrp 5000\n"
     ]
    },
    {
     "name": "stdout",
     "output_type": "stream",
     "text": [
      "Total Discount Given  20 %\n",
      "you saved 1000.0\n",
      "final amount 4000.0\n"
     ]
    }
   ],
   "source": [
    "mrp = int(input('total mrp'))\n",
    "discount = 0\n",
    "if mrp>=500:\n",
    "    discount=20\n",
    "elif mrp>=200 and mrp<500:\n",
    "    discount = 10\n",
    "discount_price = mrp*discount/100\n",
    "final_amount = mrp-discount_price\n",
    "print('Total Discount Given ', discount, '%')\n",
    "print('you saved', discount_price)\n",
    "print('final amount', final_amount)\n"
   ]
  },
  {
   "cell_type": "code",
   "execution_count": 74,
   "id": "0651e9a8-66fe-4956-846b-b7be6e19c204",
   "metadata": {},
   "outputs": [
    {
     "name": "stdout",
     "output_type": "stream",
     "text": [
      "Count: 1\n",
      "Count: 2\n",
      "Count: 3\n",
      "Count: 4\n",
      "Count: 5\n"
     ]
    }
   ],
   "source": [
    "count = 1\n",
    "while count <= 5:\n",
    "    print(\"Count:\" ,count)\n",
    "    count +=1"
   ]
  },
  {
   "cell_type": "code",
   "execution_count": 75,
   "id": "2e3921aa-917b-424f-818f-14c666104cdf",
   "metadata": {},
   "outputs": [
    {
     "name": "stdout",
     "output_type": "stream",
     "text": [
      "Number: 1\n",
      "Number: 2\n",
      "Number: 3\n",
      "Number: 4\n",
      "Number: 5\n"
     ]
    }
   ],
   "source": [
    "for num in range(1,6):\n",
    "    print(\"Number:\", num)"
   ]
  },
  {
   "cell_type": "code",
   "execution_count": null,
   "id": "5f7cb074-28c9-4cf0-9db0-51ac2fd89c7a",
   "metadata": {},
   "outputs": [],
   "source": [
    "count = 0\n",
    "while count < 5:\n",
    "    if count ==3:\n",
    "        print(\"Breaking at count =\", count)\n",
    "        break\n",
    "    print(\"count is\", count)\n",
    "    count +=1"
   ]
  },
  {
   "cell_type": "code",
   "execution_count": null,
   "id": "f1c00507-b31a-4a8d-a283-d35ebf66ec18",
   "metadata": {},
   "outputs": [],
   "source": [
    "for num in range(1,11):\n",
    "    if num ==5:\n",
    "        print(\"Breaking at number:\",num)\n",
    "        break\n",
    "    print(\"Number:\",num)"
   ]
  },
  {
   "cell_type": "code",
   "execution_count": null,
   "id": "f3867e69-b301-409c-b635-d891078a42d0",
   "metadata": {},
   "outputs": [],
   "source": []
  }
 ],
 "metadata": {
  "kernelspec": {
   "display_name": "Python 3 (ipykernel)",
   "language": "python",
   "name": "python3"
  },
  "language_info": {
   "codemirror_mode": {
    "name": "ipython",
    "version": 3
   },
   "file_extension": ".py",
   "mimetype": "text/x-python",
   "name": "python",
   "nbconvert_exporter": "python",
   "pygments_lexer": "ipython3",
   "version": "3.13.2"
  }
 },
 "nbformat": 4,
 "nbformat_minor": 5
}
