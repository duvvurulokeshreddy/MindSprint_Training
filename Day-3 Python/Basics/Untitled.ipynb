{
 "cells": [
  {
   "cell_type": "code",
   "execution_count": 2,
   "id": "cb7af43b-f38f-4ed9-bb89-a6463a2ea5ff",
   "metadata": {},
   "outputs": [
    {
     "name": "stdout",
     "output_type": "stream",
     "text": [
      "HelloWorld\n"
     ]
    }
   ],
   "source": [
    "print(\"HelloWorld\")"
   ]
  },
  {
   "cell_type": "code",
   "execution_count": 17,
   "id": "a8c95f51-3074-4599-a578-bb891dd58e20",
   "metadata": {},
   "outputs": [
    {
     "name": "stdout",
     "output_type": "stream",
     "text": [
      "Number1:  10\n",
      "Number2 20.89\n",
      "Name:  Mind_Sprint\n",
      "<class 'int'>\n",
      "<class 'float'>\n",
      "<class 'str'>\n"
     ]
    }
   ],
   "source": [
    "num1=10\n",
    "num2=20.89\n",
    "name=\"Mind_Sprint\"\n",
    "\n",
    "print(\"Number1: \",num1)\n",
    "print(f\"Number2 {num2}\")\n",
    "print(\"Name: \",name)\n",
    "\n",
    "print(type(num1))\n",
    "print(type(num2))\n",
    "print(type(name))"
   ]
  },
  {
   "cell_type": "code",
   "execution_count": 5,
   "id": "b11a3062-6d9f-4b59-9fa8-48e6862f30e8",
   "metadata": {},
   "outputs": [
    {
     "name": "stdout",
     "output_type": "stream",
     "text": [
      "Orange Orange Orange\n"
     ]
    }
   ],
   "source": [
    "x=y=z=\"Orange\"\n",
    "print(x,y,z)"
   ]
  },
  {
   "cell_type": "code",
   "execution_count": 14,
   "id": "b3265720-11a4-4f29-87d1-3629e7bee00d",
   "metadata": {},
   "outputs": [
    {
     "name": "stdout",
     "output_type": "stream",
     "text": [
      "Orange Banana Cherry\n"
     ]
    }
   ],
   "source": [
    "x,y,z= \"Orange\", \"Banana\", \"Cherry\"\n",
    "print(x,y,z)"
   ]
  },
  {
   "cell_type": "code",
   "execution_count": 11,
   "id": "9761fe00-cbba-49ba-9045-6b9cebc80a75",
   "metadata": {},
   "outputs": [
    {
     "name": "stdout",
     "output_type": "stream",
     "text": [
      "apple Banana Cherry\n",
      "apple\n",
      "appleBananaCherry\n"
     ]
    }
   ],
   "source": [
    "fruits=[\"apple\",\"Banana\",\"Cherry\"]\n",
    "x,y,z=fruits\n",
    "print(x,y,z)\n",
    "print(x)\n",
    "print(x+y+z)"
   ]
  },
  {
   "cell_type": "code",
   "execution_count": 15,
   "id": "40dea201-b90e-4b7a-b408-d1bee2e825b2",
   "metadata": {},
   "outputs": [
    {
     "name": "stdout",
     "output_type": "stream",
     "text": [
      "test1   test2   test3\n"
     ]
    }
   ],
   "source": [
    "## value Assignment to variables\n",
    "x,y,z = \"test1\",\"test2\",\"test3\"\n",
    "print(x,\" \",y,\" \",z)"
   ]
  },
  {
   "cell_type": "code",
   "execution_count": 19,
   "id": "31c5935f-4ebb-4c59-94d5-382fc6532b8a",
   "metadata": {},
   "outputs": [
    {
     "name": "stdout",
     "output_type": "stream",
     "text": [
      "Enter First Number 10\n",
      "Enter The Second Number 40\n"
     ]
    },
    {
     "name": "stdout",
     "output_type": "stream",
     "text": [
      "Additional : 50\n"
     ]
    }
   ],
   "source": [
    "## Taking input from user\n",
    "num1 = input(\"Enter First Number\")\n",
    "num2 = input(\"Enter The Second Number\")\n",
    "\n",
    "print(\"Additional :\", (int(num1)+ int(num2)))"
   ]
  },
  {
   "cell_type": "code",
   "execution_count": 23,
   "id": "21ab48e8-e9bf-4970-bd6f-1320921d40c3",
   "metadata": {},
   "outputs": [
    {
     "name": "stdout",
     "output_type": "stream",
     "text": [
      "Enter First Number 10\n",
      "Enter The Second Number 40\n"
     ]
    },
    {
     "name": "stdout",
     "output_type": "stream",
     "text": [
      "Additional : 50\n"
     ]
    }
   ],
   "source": [
    "num1 = input(\"Enter First Number\")\n",
    "num2 = input(\"Enter The Second Number\")\n",
    "\n",
    "print(\"Additional :\", (int(num1)+ int(num2)))"
   ]
  },
  {
   "cell_type": "code",
   "execution_count": 27,
   "id": "3723f005-76d0-40ed-b051-ad6e8b0dabf2",
   "metadata": {},
   "outputs": [
    {
     "name": "stdout",
     "output_type": "stream",
     "text": [
      "Addition: 13\n",
      "subtraction:  7\n",
      "Multiplication:  30\n",
      "Division:  3.3333333333333335\n",
      "Modulus: 1\n",
      "Exponentiation: 1000\n",
      "flor division:  3\n",
      "Is num1 equals to num2? False\n",
      "Is num1 not equal to num2? True\n",
      "Is num1 greater than num2? True\n",
      "Is num1 less than num2? False\n"
     ]
    }
   ],
   "source": [
    "num1 = 10\n",
    "num2 = 3\n",
    "\n",
    "addition = num1+num2\n",
    "print(\"Addition:\" ,addition)\n",
    "\n",
    "subtraction = num1 - num2\n",
    "print(\"subtraction: \", subtraction)\n",
    "\n",
    "multiplication = num1 * num2\n",
    "print(\"Multiplication: \", multiplication)\n",
    "\n",
    "division = num1 / num2\n",
    "print(\"Division: \",division)\n",
    "\n",
    "modulus = num1 % num2\n",
    "print(\"Modulus:\", modulus)\n",
    "\n",
    "exponentiation = num1 ** num2\n",
    "print(\"Exponentiation:\", exponentiation)\n",
    "\n",
    "float_division =num1 // num2\n",
    "print(\"flor division: \",float_division)\n",
    "\n",
    "print(\"Is num1 equals to num2?\", num1 == num2)\n",
    "\n",
    "print(\"Is num1 not equal to num2?\", num1 != num2)\n",
    "\n",
    "print(\"Is num1 greater than num2?\" , num1 > num2)\n",
    "\n",
    "print(\"Is num1 less than num2?\", num1 < num2)\n"
   ]
  },
  {
   "cell_type": "code",
   "execution_count": 28,
   "id": "28875737-6c0d-48bf-8a00-3553ee6167de",
   "metadata": {},
   "outputs": [
    {
     "name": "stdout",
     "output_type": "stream",
     "text": [
      "initial value: 10\n",
      "After Increment:  15\n",
      "After Decrement:  12\n",
      "After Multiplication:  24\n"
     ]
    }
   ],
   "source": [
    "num = 10\n",
    "print('initial value:', num)\n",
    "\n",
    "num+=5\n",
    "print('After Increment: ', num)\n",
    "\n",
    "num-=3\n",
    "print('After Decrement: ',num)\n",
    "\n",
    "num*=2\n",
    "print('After Multiplication: ', num)"
   ]
  },
  {
   "cell_type": "code",
   "execution_count": 30,
   "id": "1bcceaac-aaf2-4c03-bbad-b272cfbd6b14",
   "metadata": {},
   "outputs": [
    {
     "name": "stdout",
     "output_type": "stream",
     "text": [
      "enter yout email admin@gmail.com\n",
      "enter your password admin@123\n"
     ]
    },
    {
     "name": "stdout",
     "output_type": "stream",
     "text": [
      "True\n"
     ]
    }
   ],
   "source": [
    "email=input(\"enter yout email\")\n",
    "password=input(\"enter your password\")\n",
    "print(email=='admin@gmail.com' and password=='admin@123')"
   ]
  },
  {
   "cell_type": "code",
   "execution_count": 31,
   "id": "97584bad-bbe3-49ba-9ef9-d1b31a795c22",
   "metadata": {},
   "outputs": [
    {
     "name": "stdout",
     "output_type": "stream",
     "text": [
      "Postive Number\n"
     ]
    }
   ],
   "source": [
    "num = 10\n",
    "if num>0:\n",
    "    print(\"Postive Number\")"
   ]
  },
  {
   "cell_type": "code",
   "execution_count": 34,
   "id": "ff1d87e4-2fe5-4023-9c47-2a1d5f231b8e",
   "metadata": {},
   "outputs": [
    {
     "name": "stdout",
     "output_type": "stream",
     "text": [
      "Negative Number\n"
     ]
    }
   ],
   "source": [
    "num = -5\n",
    "if num > 0:\n",
    "    print(\"Postive Number\")\n",
    "else:\n",
    "    print(\"Negative Number\")"
   ]
  },
  {
   "cell_type": "code",
   "execution_count": 42,
   "id": "e9b938b4-6ac5-4b60-802a-d0e3b3b8022c",
   "metadata": {},
   "outputs": [
    {
     "name": "stdout",
     "output_type": "stream",
     "text": [
      "Enter The age 14\n"
     ]
    },
    {
     "name": "stdout",
     "output_type": "stream",
     "text": [
      "it is not eglible for vote\n"
     ]
    }
   ],
   "source": [
    "age = int(input(\"Enter The age\"))\n",
    "if age > 18:\n",
    "    print(\"It is eglible for vote\")\n",
    "else :\n",
    "    print(\"it is not eglible for vote\")"
   ]
  },
  {
   "cell_type": "code",
   "execution_count": 43,
   "id": "572c4fbf-f10d-4c28-9010-c4ade37a18eb",
   "metadata": {},
   "outputs": [
    {
     "name": "stdout",
     "output_type": "stream",
     "text": [
      "positive and odd number\n"
     ]
    }
   ],
   "source": [
    "# Nested if\n",
    "num=15\n",
    "if num>0:\n",
    "    if num % 2== 0:\n",
    "        print(\"Positive and even number\")\n",
    "    else:\n",
    "        print(\"positive and odd number\")\n",
    "else:\n",
    "    print(\"Non Positive Number\")"
   ]
  },
  {
   "cell_type": "code",
   "execution_count": 46,
   "id": "49c84722-3e49-4609-9c18-2c9eede552ab",
   "metadata": {},
   "outputs": [],
   "source": [
    "num = 5\n",
    "if num > 0:\n",
    "    pass\n",
    "else:\n",
    "    print(\"This won't execute\")"
   ]
  },
  {
   "cell_type": "code",
   "execution_count": 53,
   "id": "937432fd-1dd7-412d-bef5-829e37f05d7b",
   "metadata": {},
   "outputs": [
    {
     "name": "stdout",
     "output_type": "stream",
     "text": [
      "enter the marks 100\n"
     ]
    },
    {
     "name": "stdout",
     "output_type": "stream",
     "text": [
      "This is distinct marks\n"
     ]
    }
   ],
   "source": [
    "marks = int(input(\"enter the marks\"))\n",
    "if marks >= 90 and marks <=100:\n",
    "    print(\"This is distinct marks\")\n",
    "elif marks >=70 and marks<=89:\n",
    "    print (\"Grade B\")\n",
    "elif marks >=50 and marks<=69:\n",
    "    print(\"Grade C\")\n",
    "else:\n",
    "    print(\"Fail\")"
   ]
  },
  {
   "cell_type": "code",
   "execution_count": 66,
   "id": "48c9a6ea-d4ec-4758-b7e8-bf6f523ca5aa",
   "metadata": {},
   "outputs": [
    {
     "name": "stdout",
     "output_type": "stream",
     "text": [
      "Enter the number 4\n"
     ]
    },
    {
     "name": "stdout",
     "output_type": "stream",
     "text": [
      "It is Even Number\n"
     ]
    }
   ],
   "source": [
    "number = int(input(\"Enter the number\"))\n",
    "if number>0:\n",
    "    if number %2==0:\n",
    "             print(\"It is Even Number\")\n",
    "    else:\n",
    "        print(\"It is odd Number\")\n",
    "elif number==0:\n",
    "             print(\"It is Zero\")\n",
    "else:\n",
    "    print(\"it is negative number\")\n",
    "             "
   ]
  },
  {
   "cell_type": "code",
   "execution_count": 73,
   "id": "70d7b97e-3e15-4f2e-836a-f759957fb5a5",
   "metadata": {},
   "outputs": [
    {
     "name": "stdout",
     "output_type": "stream",
     "text": [
      "total mrp 5000\n"
     ]
    },
    {
     "name": "stdout",
     "output_type": "stream",
     "text": [
      "Total Discount Given  20 %\n",
      "you saved 1000.0\n",
      "final amount 4000.0\n"
     ]
    }
   ],
   "source": [
    "mrp = int(input('total mrp'))\n",
    "discount = 0\n",
    "if mrp>=500:\n",
    "    discount=20\n",
    "elif mrp>=200 and mrp<500:\n",
    "    discount = 10\n",
    "discount_price = mrp*discount/100\n",
    "final_amount = mrp-discount_price\n",
    "print('Total Discount Given ', discount, '%')\n",
    "print('you saved', discount_price)\n",
    "print('final amount', final_amount)\n"
   ]
  },
  {
   "cell_type": "code",
   "execution_count": null,
   "id": "0651e9a8-66fe-4956-846b-b7be6e19c204",
   "metadata": {},
   "outputs": [],
   "source": [
    "count = 1\n",
    "while count <= 5:\n",
    "    print(\"Count:\" ,count)\n",
    "    count +=1"
   ]
  },
  {
   "cell_type": "code",
   "execution_count": null,
   "id": "2e3921aa-917b-424f-818f-14c666104cdf",
   "metadata": {},
   "outputs": [],
   "source": [
    "for num in range(1,6):\n",
    "    print(\"Number:\", num)"
   ]
  },
  {
   "cell_type": "code",
   "execution_count": 2,
   "id": "5f7cb074-28c9-4cf0-9db0-51ac2fd89c7a",
   "metadata": {},
   "outputs": [
    {
     "name": "stdout",
     "output_type": "stream",
     "text": [
      "count is 0\n",
      "count is 1\n",
      "count is 2\n",
      "Breaking at count = 3\n"
     ]
    }
   ],
   "source": [
    "count = 0\n",
    "while count < 5:\n",
    "    if count ==3:\n",
    "        print(\"Breaking at count =\", count)\n",
    "        break\n",
    "    print(\"count is\", count)\n",
    "    count +=1"
   ]
  },
  {
   "cell_type": "code",
   "execution_count": 1,
   "id": "f1c00507-b31a-4a8d-a283-d35ebf66ec18",
   "metadata": {},
   "outputs": [
    {
     "name": "stdout",
     "output_type": "stream",
     "text": [
      "Number: 1\n",
      "Number: 2\n",
      "Number: 3\n",
      "Number: 4\n",
      "Breaking at number: 5\n"
     ]
    }
   ],
   "source": [
    "for num in range(1,11):\n",
    "    if num ==5:\n",
    "        print(\"Breaking at number:\",num)\n",
    "        break\n",
    "    print(\"Number:\",num)"
   ]
  },
  {
   "cell_type": "code",
   "execution_count": 5,
   "id": "61face6d-a2d8-4289-b3d5-c829c8c5daf8",
   "metadata": {},
   "outputs": [
    {
     "name": "stdout",
     "output_type": "stream",
     "text": [
      "Enter The Number 2\n",
      "Enter The second number 5\n"
     ]
    },
    {
     "name": "stdout",
     "output_type": "stream",
     "text": [
      "6\n"
     ]
    }
   ],
   "source": [
    "num1 = int(input(\"Enter The Number\"))\n",
    "num2 = int(input(\"Enter The second number\"))\n",
    "sum1=0\n",
    "for num in range(num1,num2+1):\n",
    "    if num%2==0:\n",
    "        sum1 = sum1+num\n",
    "print(sum1)"
   ]
  },
  {
   "cell_type": "code",
   "execution_count": 7,
   "id": "9e1ee983-b47d-4871-99fb-c940eaf8c1da",
   "metadata": {},
   "outputs": [
    {
     "name": "stdout",
     "output_type": "stream",
     "text": [
      "\n",
      "1 \n",
      "1 2 \n",
      "1 2 3 \n",
      "1 2 3 4 \n",
      "1 2 3 4 5 \n"
     ]
    }
   ],
   "source": [
    "for i in range(1,7):\n",
    "    for j in range(1,i):\n",
    "        print(j, end= \" \")\n",
    "    print()"
   ]
  },
  {
   "cell_type": "code",
   "execution_count": 9,
   "id": "6f9908e8-5d8e-4a00-b4f5-985c1053dfbf",
   "metadata": {},
   "outputs": [
    {
     "name": "stdout",
     "output_type": "stream",
     "text": [
      "HelloWorld\n"
     ]
    }
   ],
   "source": [
    "def hello():\n",
    "    print(\"HelloWorld\")\n",
    "hello()"
   ]
  },
  {
   "cell_type": "code",
   "execution_count": 10,
   "id": "75a71695-1467-4be4-81e2-82059d98e628",
   "metadata": {},
   "outputs": [
    {
     "name": "stdout",
     "output_type": "stream",
     "text": [
      "Good Noon:  Lokesh\n"
     ]
    }
   ],
   "source": [
    "def greet(name):\n",
    "    print(\"Good Noon: \",name)\n",
    "greet(\"Lokesh\")"
   ]
  },
  {
   "cell_type": "code",
   "execution_count": 11,
   "id": "bf43a063-1230-4991-b839-767b37978c3d",
   "metadata": {},
   "outputs": [
    {
     "name": "stdout",
     "output_type": "stream",
     "text": [
      "The Product is :  20\n"
     ]
    }
   ],
   "source": [
    "def multiply_number(a,b):\n",
    "    return a*b\n",
    "result = multiply_number(4,5)\n",
    "print(\"The Product is : \",result)"
   ]
  },
  {
   "cell_type": "code",
   "execution_count": 12,
   "id": "8549b86a-8374-4409-9ad8-5dc13130e4af",
   "metadata": {},
   "outputs": [
    {
     "name": "stdout",
     "output_type": "stream",
     "text": [
      "Hello,Loki!\n",
      "Hello,Guest!\n"
     ]
    }
   ],
   "source": [
    "def greet(name=\"Guest\"):\n",
    "    print(f\"Hello,{name}!\")\n",
    "greet(\"Loki\")\n",
    "greet()"
   ]
  },
  {
   "cell_type": "code",
   "execution_count": 13,
   "id": "8b476f85-6260-49e3-a4ba-6e6ea86f4db5",
   "metadata": {},
   "outputs": [
    {
     "name": "stdout",
     "output_type": "stream",
     "text": [
      "The Sum of 5 and 3 is 8\n"
     ]
    }
   ],
   "source": [
    "def add_numbers(a,b):\n",
    "    result=a+b\n",
    "    print(f\"The Sum of {a} and {b} is {result}\")\n",
    " \n",
    "add_numbers(5,3)"
   ]
  },
  {
   "cell_type": "code",
   "execution_count": 14,
   "id": "bd975d8c-cccc-4e9f-9fea-deb67ef71461",
   "metadata": {},
   "outputs": [
    {
     "name": "stdout",
     "output_type": "stream",
     "text": [
      "Factorial of 5 is: 120\n"
     ]
    }
   ],
   "source": [
    "def factorial(n):\n",
    "    if n == 1:\n",
    "        return 1\n",
    "    else:\n",
    "        return n * factorial(n -1)\n",
    "\n",
    "result = factorial(5)\n",
    "print(\"Factorial of 5 is:\", result)"
   ]
  },
  {
   "cell_type": "code",
   "execution_count": 16,
   "id": "129a0c2d-a54f-4ee9-8699-3363faa23ae8",
   "metadata": {},
   "outputs": [
    {
     "name": "stdout",
     "output_type": "stream",
     "text": [
      "Lokesh is 20 years old and lives in Naidupeta.\n"
     ]
    }
   ],
   "source": [
    "# Passing arguments using keywords\n",
    "def describe_person(name,age,city):\n",
    "    print(f\"{name} is {age} years old and lives in {city}.\")\n",
    "# calling using keyword arguments\n",
    "describe_person(age=20,city=\"Naidupeta\" ,name=\"Lokesh\")"
   ]
  },
  {
   "cell_type": "code",
   "execution_count": 23,
   "id": "19f9482c-a17c-4ba8-b9d6-d8131e031609",
   "metadata": {},
   "outputs": [
    {
     "name": "stdout",
     "output_type": "stream",
     "text": [
      "enter yout email admin@gmail.com\n",
      "enter your password admin@123\n"
     ]
    },
    {
     "name": "stdout",
     "output_type": "stream",
     "text": [
      "Login\n"
     ]
    }
   ],
   "source": [
    "email=input(\"enter yout email\")\n",
    "password=input(\"enter your password\")\n",
    "def login(email,password):\n",
    "    if email=='admin@gmail.com' and password=='admin@123':\n",
    "        print(\"Login\")\n",
    "    else:\n",
    "        print(\"invalid\")\n",
    "login(email,password)"
   ]
  },
  {
   "cell_type": "code",
   "execution_count": 15,
   "id": "c3784cb8-96f6-4d3f-89ff-108e8acc7db6",
   "metadata": {},
   "outputs": [
    {
     "name": "stdout",
     "output_type": "stream",
     "text": [
      "[10, 20, 30, 40]\n",
      "30\n",
      "[10, 20, 30, 40, 60]\n",
      "[10, 20, 25, 30, 40, 60]\n",
      "60 Removed\n",
      "5\n",
      "Minimum Value 10\n",
      "Maximum Value 40\n",
      "Sum is :  125\n"
     ]
    }
   ],
   "source": [
    "#List\n",
    "mylist = [10,20,30,40]\n",
    "print(mylist)\n",
    "print(mylist[2])\n",
    "mylist.append(60)\n",
    "print(mylist)\n",
    "#insert element at some index\n",
    "mylist.insert(2,25)\n",
    "print(mylist)\n",
    "#Data Removal\n",
    "data=mylist.pop() ## its removing last element which you save in some variable\n",
    "print(data, \"Removed\")\n",
    "print(len(mylist)) # checking Length\n",
    "print(\"Minimum Value\", min(mylist))\n",
    "print(\"Maximum Value\", max(mylist))\n",
    "print(\"Sum is : \", sum(mylist))"
   ]
  },
  {
   "cell_type": "code",
   "execution_count": 1,
   "id": "2188b006-51f1-4344-bc2b-da01e5e13cf6",
   "metadata": {},
   "outputs": [
    {
     "name": "stdout",
     "output_type": "stream",
     "text": [
      "1\n",
      "2\n",
      "3\n",
      "4\n",
      "5\n",
      "6\n",
      "7\n",
      "8\n",
      "9\n",
      "1\n",
      "2\n",
      "3\n",
      "4\n",
      "5\n",
      "6\n",
      "7\n",
      "8\n",
      "9\n"
     ]
    }
   ],
   "source": [
    "mydata=[1,2,3,4,5,6,7,8,9]\n",
    "for num in mydata:\n",
    "    print(num)\n",
    "\n",
    "i=0\n",
    "while i<len(mydata):\n",
    "    print(mydata[i])\n",
    "    i+=1"
   ]
  },
  {
   "cell_type": "code",
   "execution_count": 2,
   "id": "9a2f93c9-d567-40b5-b8ee-2f339ec6088a",
   "metadata": {},
   "outputs": [
    {
     "name": "stdout",
     "output_type": "stream",
     "text": [
      "[9, 8, 7, 6, 5, 4, 3, 2, 1]\n"
     ]
    }
   ],
   "source": [
    "mydata.sort(reverse=True)\n",
    "print(mydata)"
   ]
  },
  {
   "cell_type": "code",
   "execution_count": 3,
   "id": "bce66815-6089-4e34-b8e3-0d0ffe4e06b9",
   "metadata": {},
   "outputs": [
    {
     "name": "stdout",
     "output_type": "stream",
     "text": [
      "[1, 2, 3, 4, 5, 6, 7, 8, 9]\n"
     ]
    }
   ],
   "source": [
    "mydata.reverse()\n",
    "print(mydata)"
   ]
  },
  {
   "cell_type": "code",
   "execution_count": 13,
   "id": "7a2555b5-25d8-4ccc-9f76-d4af0e375bc7",
   "metadata": {},
   "outputs": [
    {
     "name": "stdout",
     "output_type": "stream",
     "text": [
      "[1, 2, 3, 4, 5, 6, 7, 8, 9]\n",
      "[1, 4, 9, 16, 25]\n"
     ]
    }
   ],
   "source": [
    "copy_numbers = mydata.copy()\n",
    "print(copy_numbers)\n",
    "squares = [x ** 2 for x in range(1,6)]\n",
    "print(squares)"
   ]
  },
  {
   "cell_type": "code",
   "execution_count": 22,
   "id": "77bcfd32-9a87-4f28-83fc-d96f5d2a653d",
   "metadata": {},
   "outputs": [
    {
     "name": "stdout",
     "output_type": "stream",
     "text": [
      "('alex', 'bob', 'catty', 'devid')\n",
      "('test', True, 78, 3.14, [2, 3, 4])\n",
      "()\n",
      "('hell',)\n",
      "<class 'tuple'>\n",
      "Access values bob\n",
      "Access values devid\n",
      "Access values ('alex', 'bob', 'catty')\n",
      "['alex', 'bob', 'catty', 'devid']\n",
      "('alex', 'bob', 'catty', 'devid', 'ella')\n"
     ]
    }
   ],
   "source": [
    "#creating tuple \n",
    "name=('alex','bob','catty','devid')\n",
    "print(name)\n",
    "\n",
    "mixed=('test',True,78,3.14,[2,3,4])\n",
    "print(mixed)\n",
    "\n",
    "#Empty tuple\n",
    "empty_tup=()\n",
    "print(empty_tup)\n",
    "#tupe with single value\n",
    "data = ('hell',) #, is mandatory\n",
    "print(data)\n",
    "print(type(data))\n",
    "\n",
    "print('Access values',name[1])\n",
    "print('Access values',name[-1])\n",
    "print('Access values',name[0:3])\n",
    "name = list(name)\n",
    "print(name)\n",
    "name.append('ella')\n",
    "name = tuple(name)\n",
    "print(name)"
   ]
  },
  {
   "cell_type": "code",
   "execution_count": 19,
   "id": "c6207c7d-5752-48b5-b871-a7f44274cd16",
   "metadata": {},
   "outputs": [
    {
     "name": "stdout",
     "output_type": "stream",
     "text": [
      "(10, 20, 30)\n"
     ]
    }
   ],
   "source": [
    "number_tuple = (10,20,30)\n",
    "number_list = list(number_tuple)\n",
    "\n",
    "number_list.append(40)\n",
    "\n",
    "numbers_tuple = tuple(number_list)\n",
    "print(number_tuple)"
   ]
  },
  {
   "cell_type": "code",
   "execution_count": 23,
   "id": "0724e919-7977-4905-bf8c-39e15bad08be",
   "metadata": {},
   "outputs": [
    {
     "name": "stdout",
     "output_type": "stream",
     "text": [
      "(1, 2, 3, 4, 5, 6)\n",
      "('temp', 'temp', 'temp', 'temp')\n"
     ]
    }
   ],
   "source": [
    "tuple1=(1,2,3)\n",
    "tuple2=(4,5,6)\n",
    "concat= tuple1+tuple2\n",
    "print(concat)\n",
    "new_tuple=('temp',)*4\n",
    "print(new_tuple)"
   ]
  },
  {
   "cell_type": "code",
   "execution_count": 25,
   "id": "ed690621-953e-4675-abd1-87429f9e80f2",
   "metadata": {},
   "outputs": [
    {
     "name": "stdout",
     "output_type": "stream",
     "text": [
      "1\n",
      "2\n"
     ]
    }
   ],
   "source": [
    "list=[1,2,3,4,5,6,8]\n",
    "print(list.count(3))\n",
    " \n",
    "print(list.index(3))"
   ]
  },
  {
   "cell_type": "code",
   "execution_count": 36,
   "id": "b0fd621d-43c5-447a-a9b0-257b1a0c9939",
   "metadata": {},
   "outputs": [
    {
     "name": "stdout",
     "output_type": "stream",
     "text": [
      "{'eid': 1001, 'name': 'john Doe', 'department': 'I.T', 'Salary': 45678}\n",
      "Employee Id 1001\n",
      "Employee Name: john Doe\n"
     ]
    }
   ],
   "source": [
    "# Employee Dictionary\n",
    " \n",
    "employee={\n",
    "\n",
    "    \"eid\":1001,\n",
    "\n",
    "    \"name\":\"john Doe\",\n",
    "\n",
    "    \"department\":\"I.T\",\n",
    "\n",
    "    \"Salary\":45678\n",
    "\n",
    "}\n",
    "\n",
    "print(employee)\n",
    "\n",
    "print('Employee Id' ,employee['eid'])\n",
    "\n",
    "print('Employee Name:' , employee.get('name'))\n",
    " "
   ]
  },
  {
   "cell_type": "code",
   "execution_count": 38,
   "id": "868cfdcf-01c7-47ca-ae77-5fc5b4d5f163",
   "metadata": {},
   "outputs": [
    {
     "name": "stdout",
     "output_type": "stream",
     "text": [
      "Manager: None\n",
      "Manager: Chandana\n"
     ]
    }
   ],
   "source": [
    "print('Manager:',employee.get('manager'))\n",
    "print('Manager:',employee.get('Manager',\"Chandana\"))"
   ]
  },
  {
   "cell_type": "code",
   "execution_count": 28,
   "id": "17466a52-7f73-48bf-95e5-10c30e036495",
   "metadata": {},
   "outputs": [
    {
     "name": "stdout",
     "output_type": "stream",
     "text": [
      "('Salary', 45678) removed\n",
      "{'eid': 1001, 'name': 'john Doe', 'department': 'I.T'}\n"
     ]
    }
   ],
   "source": [
    "data=employee.popitem()\n",
    "\n",
    "print(data,'removed')\n",
    "\n",
    "print(employee)\n",
    " "
   ]
  },
  {
   "cell_type": "code",
   "execution_count": 40,
   "id": "42eeae0e-e948-41d2-bc48-441f13a1d50a",
   "metadata": {},
   "outputs": [
    {
     "name": "stdout",
     "output_type": "stream",
     "text": [
      "45678 removed\n",
      "{'eid': 1001, 'name': 'john Doe', 'department': 'I.T'}\n"
     ]
    }
   ],
   "source": [
    "\n",
    "data = employee.pop('Salary')\n",
    "print(data, 'removed')\n",
    "print(employee)\n"
   ]
  },
  {
   "cell_type": "code",
   "execution_count": 45,
   "id": "ecd31c5f-f7e0-4fff-884b-40afc8e0e7ed",
   "metadata": {},
   "outputs": [
    {
     "name": "stdout",
     "output_type": "stream",
     "text": [
      "{'id': 1, 'name': 'alex', 'email': 'alex@gmail.com', 'address': 'us'}\n",
      "id :  1\n",
      "name :  alex\n",
      "email :  alex@gmail.com\n",
      "address :  us\n"
     ]
    }
   ],
   "source": [
    "student={\n",
    "    \"id\":1,\n",
    "    \"name\":\"alex\",\n",
    "    \"email\":\"alex@gmail.com\",\n",
    "    \"address\":\"us\"\n",
    "}\n",
    "print(student)\n",
    "\n",
    "for key in student:\n",
    "    print(key,\": \",student[key])"
   ]
  },
  {
   "cell_type": "code",
   "execution_count": 48,
   "id": "f94a90b7-2d3e-4eac-ad3e-61e1fe4eb30e",
   "metadata": {},
   "outputs": [
    {
     "name": "stdout",
     "output_type": "stream",
     "text": [
      "dict_items([('id', 1), ('name', 'alex'), ('email', 'alex@gmail.com'), ('address', 'us')])\n",
      "id : 1\n",
      "name : alex\n",
      "email : alex@gmail.com\n",
      "address : us\n"
     ]
    }
   ],
   "source": [
    "print(student.items())\n",
    "for key,value in student.items():\n",
    "    print(key,\":\",value)"
   ]
  },
  {
   "cell_type": "code",
   "execution_count": 49,
   "id": "eb82db0d-3ddc-4c87-a008-def7293f4e84",
   "metadata": {},
   "outputs": [
    {
     "name": "stdout",
     "output_type": "stream",
     "text": [
      "address is present in student object\n"
     ]
    }
   ],
   "source": [
    "if \"address\" in student:\n",
    "\n",
    "    print(\"address is present in student object\")\n",
    " "
   ]
  },
  {
   "cell_type": "code",
   "execution_count": 52,
   "id": "e938fea7-275c-4de9-a156-3914316331e8",
   "metadata": {},
   "outputs": [
    {
     "name": "stdout",
     "output_type": "stream",
     "text": [
      "{403, 404, 500, 200, 302}\n"
     ]
    }
   ],
   "source": [
    "myset = {404, 200, 500, 302, 403, 500}\n",
    "print(myset)\n"
   ]
  },
  {
   "cell_type": "code",
   "execution_count": 53,
   "id": "acc17b36-583b-4e67-a752-c9d71b5712c9",
   "metadata": {},
   "outputs": [
    {
     "name": "stdout",
     "output_type": "stream",
     "text": [
      "403\n",
      "404\n",
      "500\n",
      "200\n",
      "302\n"
     ]
    }
   ],
   "source": [
    "for num in myset:\n",
    "\n",
    "    print(num)\n",
    " "
   ]
  },
  {
   "cell_type": "code",
   "execution_count": 54,
   "id": "45d9ba8e-e285-46e8-90c5-245872871c05",
   "metadata": {},
   "outputs": [
    {
     "name": "stdout",
     "output_type": "stream",
     "text": [
      "{403, 404, 500, 501, 200, 302}\n",
      "{402, 403, 404, 500, 501, 200, 302, 303}\n"
     ]
    }
   ],
   "source": [
    "myset.add(501)\n",
    "\n",
    "print(myset)\n",
    " \n",
    "# adding multiple values\n",
    "\n",
    "myset.update([303,402])\n",
    "\n",
    "print(myset)\n",
    " "
   ]
  },
  {
   "cell_type": "code",
   "execution_count": 55,
   "id": "4573c68c-cf8b-4bd2-ade1-eed524b5d035",
   "metadata": {},
   "outputs": [
    {
     "name": "stdout",
     "output_type": "stream",
     "text": [
      "{402, 403, 404, 500, 501, 200, 302}\n"
     ]
    }
   ],
   "source": [
    "# Removal of elements\n",
    "\n",
    "myset.remove(303)\n",
    "\n",
    "print(myset)\n",
    " "
   ]
  },
  {
   "cell_type": "code",
   "execution_count": 56,
   "id": "fe296fe7-2702-4918-8611-ff0e53a24b59",
   "metadata": {},
   "outputs": [
    {
     "name": "stdout",
     "output_type": "stream",
     "text": [
      "set()\n"
     ]
    }
   ],
   "source": [
    "myset.clear()\n",
    "print(myset)"
   ]
  },
  {
   "cell_type": "code",
   "execution_count": 57,
   "id": "ff51c003-7091-4f51-9d15-9d7d65a9c228",
   "metadata": {},
   "outputs": [
    {
     "name": "stdout",
     "output_type": "stream",
     "text": [
      "set()\n"
     ]
    },
    {
     "ename": "KeyError",
     "evalue": "'pop from an empty set'",
     "output_type": "error",
     "traceback": [
      "\u001b[1;31m---------------------------------------------------------------------------\u001b[0m",
      "\u001b[1;31mKeyError\u001b[0m                                  Traceback (most recent call last)",
      "Cell \u001b[1;32mIn[57], line 3\u001b[0m\n\u001b[0;32m      1\u001b[0m myset\u001b[38;5;241m.\u001b[39mdiscard(\u001b[38;5;241m303\u001b[39m)\n\u001b[0;32m      2\u001b[0m \u001b[38;5;28mprint\u001b[39m(myset)\n\u001b[1;32m----> 3\u001b[0m \u001b[43mmyset\u001b[49m\u001b[38;5;241;43m.\u001b[39;49m\u001b[43mpop\u001b[49m\u001b[43m(\u001b[49m\u001b[43m)\u001b[49m\n\u001b[0;32m      4\u001b[0m \u001b[38;5;28mprint\u001b[39m(myset)\n",
      "\u001b[1;31mKeyError\u001b[0m: 'pop from an empty set'"
     ]
    }
   ],
   "source": [
    "myset.discard(303)\n",
    "print(myset)\n",
    "myset.pop()\n",
    "print(myset)"
   ]
  },
  {
   "cell_type": "code",
   "execution_count": 58,
   "id": "75f70296-28a9-4e0d-97b9-a57dbc243067",
   "metadata": {},
   "outputs": [
    {
     "name": "stdout",
     "output_type": "stream",
     "text": [
      "set is empty\n"
     ]
    }
   ],
   "source": [
    "if len(myset)>0:\n",
    "    myset.pop()\n",
    "else:\n",
    "    print('set is empty')"
   ]
  },
  {
   "cell_type": "code",
   "execution_count": 60,
   "id": "44bd5e35-174a-40b8-835f-c30199440113",
   "metadata": {},
   "outputs": [
    {
     "name": "stdout",
     "output_type": "stream",
     "text": [
      "{1, 2, 3, 4, 5}\n"
     ]
    }
   ],
   "source": [
    "myset.update([1,2,3,4,5])\n",
    "print(myset)"
   ]
  },
  {
   "cell_type": "code",
   "execution_count": 61,
   "id": "8c5cd5e3-7223-40ab-b6ec-b7ee0cc903e2",
   "metadata": {},
   "outputs": [
    {
     "name": "stdout",
     "output_type": "stream",
     "text": [
      "{1, 2, 3, 4, 5, 6, 7, 8}\n",
      "{1, 2, 3, 4, 5, 6, 7, 8}\n",
      "{4, 5}\n",
      "{4, 5}\n",
      "{1, 2, 3}\n",
      "{1, 2, 3}\n",
      "{1, 2, 3, 6, 7, 8}\n",
      "{1, 2, 3, 6, 7, 8}\n"
     ]
    }
   ],
   "source": [
    "A = {1,2,3,4,5}\n",
    "B = {4,5,6,7,8}\n",
    "\n",
    "print(A | B)\n",
    "print(A.union(B))\n",
    "\n",
    "print(A & B)\n",
    "print(A.intersection(B))\n",
    "\n",
    "print(A -B)\n",
    "print(A.difference(B))\n",
    "\n",
    "print(A ^ B)\n",
    "print(A.symmetric_difference(B))"
   ]
  },
  {
   "cell_type": "code",
   "execution_count": 69,
   "id": "57cdcc4e-2972-4c8c-b103-40e5f8d726b2",
   "metadata": {},
   "outputs": [
    {
     "name": "stdout",
     "output_type": "stream",
     "text": [
      "{'Alice': 70000, 'Bob': 80000, 'Charlie': 75000}\n",
      "Employee: Alice, Salary: 72000\n",
      "{'Alice': 72000, 'Bob': 80000, 'David': 85000}\n",
      "Employee: Bob, Salary: 80000\n",
      "{'Alice': 72000, 'Bob': 80000, 'David': 85000}\n",
      "Employee: David, Salary: 85000\n",
      "{'Alice': 72000, 'Bob': 80000, 'David': 85000}\n"
     ]
    }
   ],
   "source": [
    "employees = {\n",
    "    \"Alice\": 70000,\n",
    "    \"Bob\": 80000,\n",
    "    \"Charlie\": 75000\n",
    "\n",
    "}\n",
    "print(employees)\n",
    "# add new employee\n",
    "employees[\"David\"] = 85000\n",
    "\n",
    "#update employee\n",
    "\n",
    "employees[\"Alice\"] = 72000\n",
    "\n",
    "\n",
    "del employees[\"Charlie\"]\n",
    "\n",
    "for name, salary in employees.items():\n",
    "\n",
    "    print(f\"Employee: {name}, Salary: {salary}\")\n",
    "    print(employees)\n",
    "\n",
    " "
   ]
  },
  {
   "cell_type": "code",
   "execution_count": 79,
   "id": "88ce0765-7f24-4309-be6d-e4da5b2e10af",
   "metadata": {},
   "outputs": [
    {
     "name": "stdout",
     "output_type": "stream",
     "text": [
      "----------------------\n",
      "('id', 3)   us\n",
      "('name', 'catty')   us\n",
      "('department', 'hr')   us\n",
      "('Salary', 70000)   us\n"
     ]
    }
   ],
   "source": [
    "employees=\n",
    "\n",
    "\n",
    "def add_employee(id,name,department,salary):\n",
    "    n=len(employees)\n",
    "    employees[f'emp{n+1}']={\"id:id\n",
    "\n",
    "    def print_employee(emp"
   ]
  },
  {
   "cell_type": "code",
   "execution_count": null,
   "id": "82696f5c-0bfe-4b03-aa19-e39fa447a00d",
   "metadata": {},
   "outputs": [
    {
     "name": "stdout",
     "output_type": "stream",
     "text": [
      "Alice: 72000\n",
      "Bob: 80000\n",
      "David: 85000\n"
     ]
    }
   ],
   "source": []
  }
 ],
 "metadata": {
  "kernelspec": {
   "display_name": "Python 3",
   "language": "python",
   "name": "python3"
  },
  "language_info": {
   "codemirror_mode": {
    "name": "ipython",
    "version": 3
   },
   "file_extension": ".py",
   "mimetype": "text/x-python",
   "name": "python",
   "nbconvert_exporter": "python",
   "pygments_lexer": "ipython3",
   "version": "3.13.2"
  }
 },
 "nbformat": 4,
 "nbformat_minor": 5
}
