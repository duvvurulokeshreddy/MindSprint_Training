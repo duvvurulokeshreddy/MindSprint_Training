{
 "cells": [
  {
   "cell_type": "code",
   "execution_count": 15,
   "metadata": {},
   "outputs": [],
   "source": [
    "# Movie Ticket Booking System\n",
    " \n",
    "# Step 1: Store available movies in a list\n",
    "movies = [\n",
    "    {'title': 'Inception', 'genre': 'Sci-Fi', 'showtime': '18:00'},\n",
    "    {'title': 'The Dark Knight', 'genre': 'Action', 'showtime': '21:00'},\n",
    "    {'title': 'Interstellar', 'genre': 'Sci-Fi', 'showtime': '15:00'}\n",
    "]\n",
    " \n",
    "# Step 2: Maintain a set of unique theaters\n",
    "theaters = {'PVR Cinemas', 'INOX', 'Cinepolis'}\n",
    " \n",
    "# Step 3: Store ticket pricing details as a tuple\n",
    "ticket_pricing = (150, 200, 250)  # Prices in INR\n",
    " \n",
    "# Step 4: Create a dictionary of customers\n",
    "customers = {\n",
    "    'John': ['Inception'],\n",
    "    'Alice': ['The Dark Knight'],\n",
    "    'Bob': []\n",
    "}"
   ]
  },
  {
   "cell_type": "code",
   "execution_count": 23,
   "metadata": {},
   "outputs": [
    {
     "name": "stdout",
     "output_type": "stream",
     "text": [
      "Movie 'Salar' added successfully\n"
     ]
    }
   ],
   "source": [
    "# Add a new movie to the movie list\n",
    "\n",
    "def add_movie(title, genre, showtime):\n",
    "    new_movie = {'title': title, 'genre': genre, 'showtime': showtime}\n",
    "    movies.append(new_movie)\n",
    "    print(f\"Movie '{title}' added successfully\")\n",
    "add_movie(\"Salar\", \"Action\", \"78:00\")\n",
    "\n",
    " "
   ]
  },
  {
   "cell_type": "code",
   "execution_count": 25,
   "metadata": {},
   "outputs": [
    {
     "name": "stdout",
     "output_type": "stream",
     "text": [
      "Movie 'RRR' removed successfully\n"
     ]
    }
   ],
   "source": [
    "# Task 2: Remove a movie from the list\n",
    "\n",
    "def remove_movie(title):\n",
    "    global movies\n",
    "    movies = [movie for movie in movies if movie['title'] != title]\n",
    "    print(f\"Movie '{title}' removed successfully\")\n",
    "remove_movie(\"RRR\")\n",
    " "
   ]
  },
  {
   "cell_type": "code",
   "execution_count": 26,
   "metadata": {},
   "outputs": [
    {
     "name": "stdout",
     "output_type": "stream",
     "text": [
      "Theater 'Theater 3' added successfully.\n",
      "{'Theater 3'}\n"
     ]
    }
   ],
   "source": [
    "# Function to add a new theater\n",
    "def add_theater(theater_name):\n",
    "    theaters.add(theater_name)\n",
    "    print(f\"Theater '{theater_name}' added successfully.\")\n",
    "\n",
    "# Assuming theaters is a set\n",
    "theaters = set()\n",
    "add_theater(\"Theater 3\")\n",
    "# Corrected print statement\n",
    "print(theaters)\n"
   ]
  },
  {
   "cell_type": "code",
   "execution_count": 28,
   "metadata": {},
   "outputs": [
    {
     "name": "stdout",
     "output_type": "stream",
     "text": [
      "[{'title': 'Inception', 'genre': 'Sci-Fi', 'showtime': '18:00'}, {'title': 'The Dark Knight', 'genre': 'Action', 'showtime': '21:00'}, {'title': 'Interstellar', 'genre': 'Sci-Fi', 'showtime': '15:00'}, {'title': 'Salar', 'genre': 'Action', 'showtime': '78:00'}, {'title': 'Salar', 'genre': 'Action', 'showtime': '78:00'}]\n"
     ]
    }
   ],
   "source": [
    "print(movies)"
   ]
  },
  {
   "cell_type": "code",
   "execution_count": 29,
   "metadata": {},
   "outputs": [
    {
     "name": "stdout",
     "output_type": "stream",
     "text": [
      "Theater 'Theater 3' added successfully.\n"
     ]
    }
   ],
   "source": [
    "# Function to add a new theater\n",
    "def add_theater(theater_name):\n",
    "    theaters.add(theater_name)\n",
    "    print(f\"Theater '{theater_name}' added successfully.\")\n",
    "add_theater(\"Theater 3\")"
   ]
  },
  {
   "cell_type": "code",
   "execution_count": 30,
   "metadata": {},
   "outputs": [
    {
     "name": "stdout",
     "output_type": "stream",
     "text": [
      "{'Theater 3'}\n"
     ]
    }
   ],
   "source": [
    "print(theaters)"
   ]
  },
  {
   "cell_type": "code",
   "execution_count": 34,
   "metadata": {},
   "outputs": [
    {
     "name": "stdout",
     "output_type": "stream",
     "text": [
      "Customer 'Lokesh' already exists.\n"
     ]
    }
   ],
   "source": [
    "# Function to add a new customer\n",
    "\n",
    "def add_customer(name):\n",
    "    if name not in customers:\n",
    "        customers[name] = []\n",
    "        print(f\"Customer '{name}' added successfully.\")\n",
    "    else:\n",
    "        print(f\"Customer '{name}' already exists.\")\n",
    "add_customer(\"Lokesh\")\n",
    " "
   ]
  },
  {
   "cell_type": "code",
   "execution_count": 33,
   "metadata": {},
   "outputs": [
    {
     "name": "stdout",
     "output_type": "stream",
     "text": [
      "{'John': ['Inception'], 'Alice': ['The Dark Knight'], 'Bob': [], 'Shasi': [], 'Lokesh': []}\n"
     ]
    }
   ],
   "source": [
    "print(customers)"
   ]
  },
  {
   "cell_type": "code",
   "execution_count": 35,
   "metadata": {},
   "outputs": [
    {
     "name": "stdout",
     "output_type": "stream",
     "text": [
      "Customer 'Dhoni' does not exist.\n"
     ]
    }
   ],
   "source": [
    "# Function to book a movie ticket for a customer (not exist customer)\n",
    "\n",
    "def book_movie_ticket(customer_name, movie_title):\n",
    "    if customer_name in customers:\n",
    "        customers[customer_name].append(movie_title)\n",
    "        print(f\"Movie '{movie_title}' booked for customer '{customer_name}'.\")\n",
    "    else:\n",
    "        print(f\"Customer '{customer_name}' does not exist.\")\n",
    "book_movie_ticket(\"Dhoni\", \"Avatar\")\n",
    " "
   ]
  },
  {
   "cell_type": "code",
   "execution_count": 37,
   "metadata": {},
   "outputs": [
    {
     "name": "stdout",
     "output_type": "stream",
     "text": [
      "Movie 'RRR' booked for customer 'Lokesh'.\n"
     ]
    }
   ],
   "source": [
    "# Function to book a movie ticket for a customer\n",
    "\n",
    "def book_movie_ticket(customer_name, movie_title):\n",
    "    if customer_name in customers:\n",
    "        customers[customer_name].append(movie_title)\n",
    "        print(f\"Movie '{movie_title}' booked for customer '{customer_name}'.\")\n",
    "    else:\n",
    "        print(f\"Customer '{customer_name}' does not exist.\")\n",
    "book_movie_ticket(\"Lokesh\", \"RRR\")\n",
    " "
   ]
  },
  {
   "cell_type": "code",
   "execution_count": 38,
   "metadata": {},
   "outputs": [
    {
     "name": "stdout",
     "output_type": "stream",
     "text": [
      "{'John': ['Inception'], 'Alice': ['The Dark Knight'], 'Bob': [], 'Shasi': ['Avatar'], 'Lokesh': ['RRR']}\n"
     ]
    }
   ],
   "source": [
    "print(customers)"
   ]
  },
  {
   "cell_type": "code",
   "execution_count": 39,
   "metadata": {},
   "outputs": [
    {
     "name": "stdout",
     "output_type": "stream",
     "text": [
      "[{'title': 'Inception', 'genre': 'Sci-Fi', 'showtime': '18:00'}, {'title': 'The Dark Knight', 'genre': 'Action', 'showtime': '21:00'}, {'title': 'Interstellar', 'genre': 'Sci-Fi', 'showtime': '15:00'}, {'title': 'Salar', 'genre': 'Action', 'showtime': '78:00'}, {'title': 'Salar', 'genre': 'Action', 'showtime': '78:00'}]\n"
     ]
    }
   ],
   "source": [
    "print(movies)"
   ]
  },
  {
   "cell_type": "code",
   "execution_count": 41,
   "metadata": {},
   "outputs": [
    {
     "name": "stdout",
     "output_type": "stream",
     "text": [
      "\n",
      "Movies:\n",
      "{'title': 'Inception', 'genre': 'Sci-Fi', 'showtime': '18:00'}\n",
      "{'title': 'The Dark Knight', 'genre': 'Action', 'showtime': '21:00'}\n",
      "{'title': 'Interstellar', 'genre': 'Sci-Fi', 'showtime': '15:00'}\n",
      "{'title': 'Salar', 'genre': 'Action', 'showtime': '78:00'}\n",
      "{'title': 'Salar', 'genre': 'Action', 'showtime': '78:00'}\n",
      "\n",
      "Theaters:\n",
      "Theater 3\n",
      "\n",
      "Ticket Pricing:\n",
      "(150, 200, 250)\n",
      "\n",
      "Customer Bookings:\n",
      "John: ['Inception']\n",
      "Alice: ['The Dark Knight']\n",
      "Bob: []\n",
      "Shasi: ['Avatar']\n",
      "Lokesh: ['RRR']\n"
     ]
    }
   ],
   "source": [
    "# Function to print all movies, theaters, ticket pricing, and customer bookings\n",
    "\n",
    "def print_all_data():\n",
    "    print(\"\\nMovies:\")\n",
    "    for movie in movies:\n",
    "        print(movie)\n",
    "    print(\"\\nTheaters:\")\n",
    "    for theater in theaters:\n",
    "        print(theater)\n",
    "    print(\"\\nTicket Pricing:\")\n",
    "    print(ticket_pricing)\n",
    "    print(\"\\nCustomer Bookings:\")\n",
    "    for customer, booked_movies in customers.items():\n",
    "        print(f\"{customer}: {booked_movies}\")\n",
    "print_all_data()\n",
    " "
   ]
  },
  {
   "cell_type": "code",
   "execution_count": null,
   "metadata": {},
   "outputs": [],
   "source": []
  }
 ],
 "metadata": {
  "kernelspec": {
   "display_name": "Python 3 (ipykernel)",
   "language": "python",
   "name": "python3"
  },
  "language_info": {
   "codemirror_mode": {
    "name": "ipython",
    "version": 3
   },
   "file_extension": ".py",
   "mimetype": "text/x-python",
   "name": "python",
   "nbconvert_exporter": "python",
   "pygments_lexer": "ipython3",
   "version": "3.13.2"
  }
 },
 "nbformat": 4,
 "nbformat_minor": 4
}
