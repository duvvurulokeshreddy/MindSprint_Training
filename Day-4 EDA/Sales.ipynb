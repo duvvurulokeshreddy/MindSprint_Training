{
 "cells": [
  {
   "cell_type": "code",
   "execution_count": 2,
   "id": "803cb8e8-50c8-4b2f-8a5f-16763395f9ac",
   "metadata": {},
   "outputs": [
    {
     "name": "stdout",
     "output_type": "stream",
     "text": [
      "   Order_id              Product    Category  Quantity  Price  Total_Amount  \\\n",
      "0      1001    Yezz Classic C21A        Yezz         1   2896             0   \n",
      "1      1002   Nokia 6121 classic       Nokia         5   6458             0   \n",
      "2      1003      BlackBerry Leap  BlackBerry         1   4013             0   \n",
      "3      1004  Coolpad Cool 3 Plus     Coolpad         4   6419             0   \n",
      "4      1005        Samsung i7110     Samsung         5   4795             0   \n",
      "\n",
      "         Date  \n",
      "0  04/04/2024  \n",
      "1  15/11/2024  \n",
      "2  26/09/2024  \n",
      "3  13/06/2024  \n",
      "4  20/04/2024  \n"
     ]
    }
   ],
   "source": [
    "#load into pandas\n",
    "import pandas as pd \n",
    "df = pd.read_csv('store_data.csv')\n",
    "print(df.head())"
   ]
  },
  {
   "cell_type": "code",
   "execution_count": 12,
   "id": "c43ed55a-8f88-4c1a-9e8a-33d38be7a01b",
   "metadata": {},
   "outputs": [
    {
     "name": "stdout",
     "output_type": "stream",
     "text": [
      "Order_id        0\n",
      "Product         0\n",
      "Category        0\n",
      "Quantity        0\n",
      "Price           0\n",
      "Total_Amount    0\n",
      "Date            0\n",
      "Total_amount    0\n",
      "dtype: int64\n"
     ]
    }
   ],
   "source": [
    "print(df.isnull().sum())"
   ]
  },
  {
   "cell_type": "code",
   "execution_count": 10,
   "id": "01c9c8e3-5264-403d-9b3c-34f2a4207a12",
   "metadata": {},
   "outputs": [
    {
     "name": "stdout",
     "output_type": "stream",
     "text": [
      "   Order_id              Product    Category  Quantity  Price  Total_Amount  \\\n",
      "0      1001    Yezz Classic C21A        Yezz         1   2896             0   \n",
      "1      1002   Nokia 6121 classic       Nokia         5   6458             0   \n",
      "2      1003      BlackBerry Leap  BlackBerry         1   4013             0   \n",
      "3      1004  Coolpad Cool 3 Plus     Coolpad         4   6419             0   \n",
      "4      1005        Samsung i7110     Samsung         5   4795             0   \n",
      "\n",
      "         Date  Total_amount  \n",
      "0  04/04/2024          2896  \n",
      "1  15/11/2024         32290  \n",
      "2  26/09/2024          4013  \n",
      "3  13/06/2024         25676  \n",
      "4  20/04/2024         23975  \n"
     ]
    }
   ],
   "source": [
    "df['Total_amount'] = df['Quantity'] * df['Price']\n",
    "print(df.head())"
   ]
  },
  {
   "cell_type": "code",
   "execution_count": 11,
   "id": "94ecf3e7-aee1-4ca4-96dc-27eff8b98ae2",
   "metadata": {},
   "outputs": [
    {
     "name": "stdout",
     "output_type": "stream",
     "text": [
      "    Order_id                          Product    Category  Quantity  Price  \\\n",
      "1       1002               Nokia 6121 classic       Nokia         5   6458   \n",
      "2       1003                  BlackBerry Leap  BlackBerry         1   4013   \n",
      "3       1004              Coolpad Cool 3 Plus     Coolpad         4   6419   \n",
      "4       1005                    Samsung i7110     Samsung         5   4795   \n",
      "5       1006                      vivo X51 5G        vivo         2  10351   \n",
      "6       1007               Huawei Ascend G350      Huawei         1  11024   \n",
      "7       1008                     Samsung X670     Samsung         5   2455   \n",
      "8       1009                    vivo X50 Pro+        vivo         5  10938   \n",
      "9       1010                    Motorola W205    Motorola         1   7512   \n",
      "10      1011                 vivo X60 (China)        vivo         5   7748   \n",
      "11      1012                    verykool i320    verykool         3   2865   \n",
      "12      1013                 Yezz Andy 3.5EI3        Yezz         4   4502   \n",
      "13      1014                        Huawei Y7      Huawei         3   9428   \n",
      "14      1015                vivo iQOO Neo3 5G        vivo         3   7186   \n",
      "15      1016                  Pantech Link II     Pantech         2   4038   \n",
      "16      1017                  Sony Xperia XZ2        Sony         3   3864   \n",
      "17      1018  Samsung Galaxy Tab A 8.0 (2019)     Samsung         3   5847   \n",
      "18      1019               Panasonic Eluga A2   Panasonic         1   9333   \n",
      "19      1020                 Tecno Spark 6 Go       Tecno         2   6092   \n",
      "\n",
      "    Total_Amount        Date  Total_amount  \n",
      "1              0  15/11/2024         32290  \n",
      "2              0  26/09/2024          4013  \n",
      "3              0  13/06/2024         25676  \n",
      "4              0  20/04/2024         23975  \n",
      "5              0  24/10/2024         20702  \n",
      "6              0  28/06/2024         11024  \n",
      "7              0  20/02/2024         12275  \n",
      "8              0  03/07/2024         54690  \n",
      "9              0  17/04/2024          7512  \n",
      "10             0  11/08/2024         38740  \n",
      "11             0  08/11/2024          8595  \n",
      "12             0  14/10/2024         18008  \n",
      "13             0  29/02/2024         28284  \n",
      "14             0  28/05/2024         21558  \n",
      "15             0  10/10/2024          8076  \n",
      "16             0  17/09/2024         11592  \n",
      "17             0  09/09/2024         17541  \n",
      "18             0  13/05/2024          9333  \n",
      "19             0  15/02/2024         12184  \n"
     ]
    }
   ],
   "source": [
    "orders_above = df[df['Total_amount'] > 4000]\n",
    "print(orders_above)"
   ]
  },
  {
   "cell_type": "code",
   "execution_count": 13,
   "id": "ce268047-a22c-4262-be02-afd3f5099491",
   "metadata": {},
   "outputs": [
    {
     "name": "stdout",
     "output_type": "stream",
     "text": [
      "Nokia 6121 classic\n"
     ]
    }
   ],
   "source": [
    "# 4\n",
    "most_product_sold = df.groupby('Product')['Quantity'].sum().idxmax()\n",
    "print(most_product_sold)\n"
   ]
  },
  {
   "cell_type": "code",
   "execution_count": 14,
   "id": "718cf202-c29d-422d-8858-f5af0de59377",
   "metadata": {},
   "outputs": [
    {
     "name": "stdout",
     "output_type": "stream",
     "text": [
      "\n",
      "Total Sales per Category:\n",
      "Category\n",
      "BlackBerry      4013\n",
      "Coolpad        25676\n",
      "Huawei         39308\n",
      "Motorola        7512\n",
      "Nokia          32290\n",
      "Panasonic       9333\n",
      "Pantech         8076\n",
      "Samsung        53791\n",
      "Sony           11592\n",
      "Tecno          12184\n",
      "Yezz           20904\n",
      "verykool        8595\n",
      "vivo          135690\n",
      "Name: Total_Amount, dtype: int64\n",
      "\n",
      "Orders above 500:\n",
      "    Order_id                          Product    Category  Quantity  Price  \\\n",
      "0       1001                Yezz Classic C21A        Yezz         1   2896   \n",
      "1       1002               Nokia 6121 classic       Nokia         5   6458   \n",
      "2       1003                  BlackBerry Leap  BlackBerry         1   4013   \n",
      "3       1004              Coolpad Cool 3 Plus     Coolpad         4   6419   \n",
      "4       1005                    Samsung i7110     Samsung         5   4795   \n",
      "5       1006                      vivo X51 5G        vivo         2  10351   \n",
      "6       1007               Huawei Ascend G350      Huawei         1  11024   \n",
      "7       1008                     Samsung X670     Samsung         5   2455   \n",
      "8       1009                    vivo X50 Pro+        vivo         5  10938   \n",
      "9       1010                    Motorola W205    Motorola         1   7512   \n",
      "10      1011                 vivo X60 (China)        vivo         5   7748   \n",
      "11      1012                    verykool i320    verykool         3   2865   \n",
      "12      1013                 Yezz Andy 3.5EI3        Yezz         4   4502   \n",
      "13      1014                        Huawei Y7      Huawei         3   9428   \n",
      "14      1015                vivo iQOO Neo3 5G        vivo         3   7186   \n",
      "15      1016                  Pantech Link II     Pantech         2   4038   \n",
      "16      1017                  Sony Xperia XZ2        Sony         3   3864   \n",
      "17      1018  Samsung Galaxy Tab A 8.0 (2019)     Samsung         3   5847   \n",
      "18      1019               Panasonic Eluga A2   Panasonic         1   9333   \n",
      "19      1020                 Tecno Spark 6 Go       Tecno         2   6092   \n",
      "\n",
      "    Total_Amount        Date  Total_amount  \n",
      "0           2896  04/04/2024          2896  \n",
      "1          32290  15/11/2024         32290  \n",
      "2           4013  26/09/2024          4013  \n",
      "3          25676  13/06/2024         25676  \n",
      "4          23975  20/04/2024         23975  \n",
      "5          20702  24/10/2024         20702  \n",
      "6          11024  28/06/2024         11024  \n",
      "7          12275  20/02/2024         12275  \n",
      "8          54690  03/07/2024         54690  \n",
      "9           7512  17/04/2024          7512  \n",
      "10         38740  11/08/2024         38740  \n",
      "11          8595  08/11/2024          8595  \n",
      "12         18008  14/10/2024         18008  \n",
      "13         28284  29/02/2024         28284  \n",
      "14         21558  28/05/2024         21558  \n",
      "15          8076  10/10/2024          8076  \n",
      "16         11592  17/09/2024         11592  \n",
      "17         17541  09/09/2024         17541  \n",
      "18          9333  13/05/2024          9333  \n",
      "19         12184  15/02/2024         12184  \n"
     ]
    }
   ],
   "source": [
    "# 5 Total sales and above 500\n",
    "if 'Quantity' in df.columns and 'Price' in df.columns:\n",
    "    df['Total_Amount'] = df['Quantity'] * df['Price']\n",
    "    total_sales_per_category = df.groupby('Category')['Total_Amount'].sum()\n",
    "    print(f\"\\nTotal Sales per Category:\\n{total_sales_per_category}\")\n",
    " \n",
    "# 6 Find orders above 500\n",
    "    orders_above_500 = df[df['Total_Amount'] > 500]\n",
    "    print(f\"\\nOrders above 500:\\n{orders_above_500}\")"
   ]
  },
  {
   "cell_type": "code",
   "execution_count": 15,
   "id": "f7e82053-fd23-4d7d-8675-2c49644c6313",
   "metadata": {},
   "outputs": [
    {
     "name": "stdout",
     "output_type": "stream",
     "text": [
      "File Saved\n"
     ]
    }
   ],
   "source": [
    "# Save the processed data\n",
    "df.to_csv('STORE.csv',index=False)\n",
    "print(\"File Saved\")"
   ]
  },
  {
   "cell_type": "code",
   "execution_count": 19,
   "id": "5c76210a-f0ab-43d3-aaac-eef872b84d7f",
   "metadata": {},
   "outputs": [
    {
     "name": "stdout",
     "output_type": "stream",
     "text": [
      "2.2.3\n"
     ]
    }
   ],
   "source": [
    "import numpy as np\n",
    "print(np.__version__)\n"
   ]
  },
  {
   "cell_type": "code",
   "execution_count": 20,
   "id": "8ce6e5fb-591a-4629-81e7-3e1072c49d8a",
   "metadata": {},
   "outputs": [
    {
     "name": "stdout",
     "output_type": "stream",
     "text": [
      "[10 20 30 40 50]\n",
      "Type: <class 'numpy.ndarray'>\n"
     ]
    }
   ],
   "source": [
    "#Array Creation\n",
    "list=[10,20,30,40,50]\n",
    "arr = np.array(list)\n",
    "print(arr)\n",
    "print('Type:', type(arr))"
   ]
  },
  {
   "cell_type": "code",
   "execution_count": 22,
   "id": "b0f36a86-fb01-4f31-b1c0-26fa7cd610a5",
   "metadata": {},
   "outputs": [
    {
     "name": "stdout",
     "output_type": "stream",
     "text": [
      "[10 20 30 40]\n",
      "Type <class 'numpy.ndarray'>\n",
      "Shape (4,)\n"
     ]
    }
   ],
   "source": [
    "list = [10,20,30,40]\n",
    "arr = np.array(list)\n",
    "print(arr)\n",
    "print('Type',type(arr))\n",
    "print('Shape', arr.shape)"
   ]
  },
  {
   "cell_type": "code",
   "execution_count": 29,
   "id": "32e981a1-9b1d-4fe7-9a04-0ed991025dd2",
   "metadata": {},
   "outputs": [
    {
     "name": "stdout",
     "output_type": "stream",
     "text": [
      "[[1 2 3]\n",
      " [4 5 6]]\n",
      "(2, 3)\n",
      "6\n",
      "[1 2 3]\n",
      "3\n"
     ]
    }
   ],
   "source": [
    "arr1=np.array([[1,2,3],[4,5,6]])\n",
    "print(arr1)\n",
    "print(arr1.shape)\n",
    "print(arr1.size)\n",
    "print(arr1[0])\n",
    "print(arr1[0][2])"
   ]
  },
  {
   "cell_type": "code",
   "execution_count": 28,
   "id": "951e6851-4e8c-42de-90d4-5c35dd754d5b",
   "metadata": {},
   "outputs": [
    {
     "name": "stdout",
     "output_type": "stream",
     "text": [
      "[[0. 0. 0.]\n",
      " [0. 0. 0.]]\n"
     ]
    }
   ],
   "source": [
    "arr1 = np.zeros((2,3))\n",
    "print(arr1)"
   ]
  },
  {
   "cell_type": "code",
   "execution_count": 30,
   "id": "c5c35a69-cc7e-46ce-a501-e63fbc84071c",
   "metadata": {},
   "outputs": [
    {
     "name": "stdout",
     "output_type": "stream",
     "text": [
      "[[1. 1. 1.]\n",
      " [1. 1. 1.]\n",
      " [1. 1. 1.]]\n"
     ]
    }
   ],
   "source": [
    "arr2 = np.ones((3,3))\n",
    "print(arr2)"
   ]
  },
  {
   "cell_type": "code",
   "execution_count": 39,
   "id": "6267ad7b-3fe9-4905-864a-e491cb1af773",
   "metadata": {},
   "outputs": [
    {
     "data": {
      "text/plain": [
       "array([1, 4, 7])"
      ]
     },
     "execution_count": 39,
     "metadata": {},
     "output_type": "execute_result"
    }
   ],
   "source": [
    "arr3 = np.arange(1,10,3)\n",
    "arr3"
   ]
  },
  {
   "cell_type": "code",
   "execution_count": 33,
   "id": "c668ffa1-ebe8-4e67-887b-f0bf59db36ac",
   "metadata": {},
   "outputs": [
    {
     "data": {
      "text/plain": [
       "array([[1, 4, 7],\n",
       "       [2, 5, 8]])"
      ]
     },
     "execution_count": 33,
     "metadata": {},
     "output_type": "execute_result"
    }
   ],
   "source": [
    "samp = np.array([np.arange(1,10,3),np.arange(2,10,3)])\n",
    "samp"
   ]
  },
  {
   "cell_type": "code",
   "execution_count": 34,
   "id": "07ea24f3-ed3b-40a7-a5b2-83fc54035c15",
   "metadata": {},
   "outputs": [
    {
     "data": {
      "text/plain": [
       "array([ 3,  9, 15])"
      ]
     },
     "execution_count": 34,
     "metadata": {},
     "output_type": "execute_result"
    }
   ],
   "source": [
    "arr3 = np.arange(1,10,3)\n",
    "arr4 = np.arange(2,10,3)\n",
    "arr3+arr4"
   ]
  },
  {
   "cell_type": "code",
   "execution_count": 35,
   "id": "bc2f1152-8de8-465f-9d75-4fe4b56a37a2",
   "metadata": {},
   "outputs": [
    {
     "data": {
      "text/plain": [
       "array([ 2, 20, 56])"
      ]
     },
     "execution_count": 35,
     "metadata": {},
     "output_type": "execute_result"
    }
   ],
   "source": [
    "arr3 * arr4"
   ]
  },
  {
   "cell_type": "code",
   "execution_count": 36,
   "id": "1fc2d0b3-a9af-4e3c-a4ee-22cbdfc6e7cc",
   "metadata": {},
   "outputs": [
    {
     "data": {
      "text/plain": [
       "array([1, 4, 7])"
      ]
     },
     "execution_count": 36,
     "metadata": {},
     "output_type": "execute_result"
    }
   ],
   "source": [
    "arr3\n"
   ]
  },
  {
   "cell_type": "code",
   "execution_count": 37,
   "id": "a7c29b99-c7f8-4559-8a59-3e547f7cf550",
   "metadata": {},
   "outputs": [
    {
     "data": {
      "text/plain": [
       "array([ 1, 16, 49])"
      ]
     },
     "execution_count": 37,
     "metadata": {},
     "output_type": "execute_result"
    }
   ],
   "source": [
    "arr3**2"
   ]
  },
  {
   "cell_type": "code",
   "execution_count": 41,
   "id": "6acf8458-cef2-4a69-975e-6b802d39f8bb",
   "metadata": {},
   "outputs": [
    {
     "name": "stdout",
     "output_type": "stream",
     "text": [
      "Total spend:  [ 450  950  450 1650  230]\n",
      "Average  spend:  [150.         316.66666667 150.         550.          76.66666667]\n",
      "550.0\n"
     ]
    }
   ],
   "source": [
    "purchase = np.array([\n",
    "    [200,150,100],\n",
    "    [300,250,400],\n",
    "    [100,200,150],\n",
    "    [500,600,550],\n",
    "    [50,80,100]\n",
    "])\n",
    "total_spend = purchase.sum(axis=1)\n",
    "average_spend = purchase.mean(axis=1)\n",
    "print(\"Total spend: \",total_spend)\n",
    "print(\"Average  spend: \",average_spend)\n",
    "print(max(average_spend))\n",
    " "
   ]
  },
  {
   "cell_type": "code",
   "execution_count": 45,
   "id": "c9a9cf45-8863-43f3-8d66-61de77b84b58",
   "metadata": {},
   "outputs": [
    {
     "name": "stdout",
     "output_type": "stream",
     "text": [
      "Solution (x,y):  [2.2 1.2]\n"
     ]
    }
   ],
   "source": [
    "# 2x +  3y = 8\n",
    "# 4x + y =10\n",
    "import numpy as np\n",
    "A = np.array([[2,3],[4,1]])\n",
    "\n",
    "B = np.array([8,10])\n",
    "\n",
    "solution = np.linalg.solve(A,B)\n",
    "\n",
    "print(\"Solution (x,y): \",solution)"
   ]
  },
  {
   "cell_type": "code",
   "execution_count": 47,
   "id": "dec93b68-f3ab-412e-82a0-6ca3f94c4b02",
   "metadata": {},
   "outputs": [
    {
     "name": "stdout",
     "output_type": "stream",
     "text": [
      "Total Sales: 15900\n",
      "Average Sales: 1590.0\n",
      "Highest Sales: 2000\n",
      "Lowest Sales: 1000\n",
      "Days with sales above the average: [1 4 6 7 8]\n",
      "Sales with 10% increase: [1100. 1980. 1650. 1210. 2090. 1650. 2145. 2200. 1925. 1540.]\n"
     ]
    }
   ],
   "source": [
    "import numpy as np\n",
    "\n",
    "sales = np.array([1000, 1800, 1500, 1100, 1900, 1500, 1950, 2000, 1750, 1400])\n",
    "\n",
    "#total sales\n",
    "total_sales = np.sum(sales)\n",
    "#average sales\n",
    "avg_sales = np.mean(sales)\n",
    "#highest sales\n",
    "highest_sales = np.max(sales)\n",
    "#lowest sales\n",
    "lowest_sales = np.min(sales)\n",
    "print(f\"Total Sales: {total_sales}\")\n",
    "print(f\"Average Sales: {avg_sales}\")\n",
    "print(f\"Highest Sales: {highest_sales}\")\n",
    "print(f\"Lowest Sales: {lowest_sales}\")\n",
    "\n",
    " "
   ]
  },
  {
   "cell_type": "code",
   "execution_count": 48,
   "id": "476ae1c3-8e64-4b52-ab61-f47767b64d42",
   "metadata": {},
   "outputs": [
    {
     "name": "stdout",
     "output_type": "stream",
     "text": [
      "   Order_ID       Product     Category  Quantity  Price  Total_Amount  \\\n",
      "0      1001        Laptop  Electronics         2    700           NaN   \n",
      "1      1002  Mobile Phone  Electronics         1    500           NaN   \n",
      "2      1003    Headphones  Accessories         3     50           NaN   \n",
      "3      1004         Mouse  Accessories         2     20           NaN   \n",
      "4      1005      Keyboard  Accessories         1     30           NaN   \n",
      "5      1006       T-shirt     Clothing         4     15           NaN   \n",
      "6      1007        Jacket     Clothing         1     60           NaN   \n",
      "7      1008  Refrigerator  Electronics         1    900           NaN   \n",
      "8      1009            TV  Electronics         2   1100           NaN   \n",
      "9      1010         Shoes     Clothing         2     40           NaN   \n",
      "\n",
      "         Date  \n",
      "0  2024-02-01  \n",
      "1  2024-02-02  \n",
      "2  2024-02-03  \n",
      "3  2024-02-04  \n",
      "4  2024-02-05  \n",
      "5  2024-02-06  \n",
      "6  2024-02-07  \n",
      "7  2024-02-08  \n",
      "8  2024-02-09  \n",
      "9  2024-02-10  \n"
     ]
    }
   ],
   "source": [
    "import pandas as pd\n",
    "\n",
    "df = pd.read_csv('sales_data.csv')\n",
    "\n",
    "print(df)\n",
    " "
   ]
  },
  {
   "cell_type": "code",
   "execution_count": 49,
   "id": "d9bee331-a124-47a6-927f-75d51f3f9227",
   "metadata": {},
   "outputs": [
    {
     "name": "stdout",
     "output_type": "stream",
     "text": [
      "<class 'pandas.core.frame.DataFrame'>\n",
      "RangeIndex: 10 entries, 0 to 9\n",
      "Data columns (total 7 columns):\n",
      " #   Column        Non-Null Count  Dtype  \n",
      "---  ------        --------------  -----  \n",
      " 0   Order_ID      10 non-null     int64  \n",
      " 1   Product       10 non-null     object \n",
      " 2   Category      10 non-null     object \n",
      " 3   Quantity      10 non-null     int64  \n",
      " 4   Price         10 non-null     int64  \n",
      " 5   Total_Amount  0 non-null      float64\n",
      " 6   Date          10 non-null     object \n",
      "dtypes: float64(1), int64(3), object(3)\n",
      "memory usage: 692.0+ bytes\n"
     ]
    }
   ],
   "source": [
    "df.info()"
   ]
  },
  {
   "cell_type": "code",
   "execution_count": 50,
   "id": "95d20e2a-9b33-4012-8b4d-d5e1a4414c69",
   "metadata": {},
   "outputs": [
    {
     "data": {
      "text/html": [
       "<div>\n",
       "<style scoped>\n",
       "    .dataframe tbody tr th:only-of-type {\n",
       "        vertical-align: middle;\n",
       "    }\n",
       "\n",
       "    .dataframe tbody tr th {\n",
       "        vertical-align: top;\n",
       "    }\n",
       "\n",
       "    .dataframe thead th {\n",
       "        text-align: right;\n",
       "    }\n",
       "</style>\n",
       "<table border=\"1\" class=\"dataframe\">\n",
       "  <thead>\n",
       "    <tr style=\"text-align: right;\">\n",
       "      <th></th>\n",
       "      <th>Order_ID</th>\n",
       "      <th>Product</th>\n",
       "      <th>Category</th>\n",
       "      <th>Quantity</th>\n",
       "      <th>Price</th>\n",
       "      <th>Total_Amount</th>\n",
       "      <th>Date</th>\n",
       "    </tr>\n",
       "  </thead>\n",
       "  <tbody>\n",
       "    <tr>\n",
       "      <th>0</th>\n",
       "      <td>False</td>\n",
       "      <td>False</td>\n",
       "      <td>False</td>\n",
       "      <td>False</td>\n",
       "      <td>False</td>\n",
       "      <td>True</td>\n",
       "      <td>False</td>\n",
       "    </tr>\n",
       "    <tr>\n",
       "      <th>1</th>\n",
       "      <td>False</td>\n",
       "      <td>False</td>\n",
       "      <td>False</td>\n",
       "      <td>False</td>\n",
       "      <td>False</td>\n",
       "      <td>True</td>\n",
       "      <td>False</td>\n",
       "    </tr>\n",
       "    <tr>\n",
       "      <th>2</th>\n",
       "      <td>False</td>\n",
       "      <td>False</td>\n",
       "      <td>False</td>\n",
       "      <td>False</td>\n",
       "      <td>False</td>\n",
       "      <td>True</td>\n",
       "      <td>False</td>\n",
       "    </tr>\n",
       "    <tr>\n",
       "      <th>3</th>\n",
       "      <td>False</td>\n",
       "      <td>False</td>\n",
       "      <td>False</td>\n",
       "      <td>False</td>\n",
       "      <td>False</td>\n",
       "      <td>True</td>\n",
       "      <td>False</td>\n",
       "    </tr>\n",
       "    <tr>\n",
       "      <th>4</th>\n",
       "      <td>False</td>\n",
       "      <td>False</td>\n",
       "      <td>False</td>\n",
       "      <td>False</td>\n",
       "      <td>False</td>\n",
       "      <td>True</td>\n",
       "      <td>False</td>\n",
       "    </tr>\n",
       "    <tr>\n",
       "      <th>5</th>\n",
       "      <td>False</td>\n",
       "      <td>False</td>\n",
       "      <td>False</td>\n",
       "      <td>False</td>\n",
       "      <td>False</td>\n",
       "      <td>True</td>\n",
       "      <td>False</td>\n",
       "    </tr>\n",
       "    <tr>\n",
       "      <th>6</th>\n",
       "      <td>False</td>\n",
       "      <td>False</td>\n",
       "      <td>False</td>\n",
       "      <td>False</td>\n",
       "      <td>False</td>\n",
       "      <td>True</td>\n",
       "      <td>False</td>\n",
       "    </tr>\n",
       "    <tr>\n",
       "      <th>7</th>\n",
       "      <td>False</td>\n",
       "      <td>False</td>\n",
       "      <td>False</td>\n",
       "      <td>False</td>\n",
       "      <td>False</td>\n",
       "      <td>True</td>\n",
       "      <td>False</td>\n",
       "    </tr>\n",
       "    <tr>\n",
       "      <th>8</th>\n",
       "      <td>False</td>\n",
       "      <td>False</td>\n",
       "      <td>False</td>\n",
       "      <td>False</td>\n",
       "      <td>False</td>\n",
       "      <td>True</td>\n",
       "      <td>False</td>\n",
       "    </tr>\n",
       "    <tr>\n",
       "      <th>9</th>\n",
       "      <td>False</td>\n",
       "      <td>False</td>\n",
       "      <td>False</td>\n",
       "      <td>False</td>\n",
       "      <td>False</td>\n",
       "      <td>True</td>\n",
       "      <td>False</td>\n",
       "    </tr>\n",
       "  </tbody>\n",
       "</table>\n",
       "</div>"
      ],
      "text/plain": [
       "   Order_ID  Product  Category  Quantity  Price  Total_Amount   Date\n",
       "0     False    False     False     False  False          True  False\n",
       "1     False    False     False     False  False          True  False\n",
       "2     False    False     False     False  False          True  False\n",
       "3     False    False     False     False  False          True  False\n",
       "4     False    False     False     False  False          True  False\n",
       "5     False    False     False     False  False          True  False\n",
       "6     False    False     False     False  False          True  False\n",
       "7     False    False     False     False  False          True  False\n",
       "8     False    False     False     False  False          True  False\n",
       "9     False    False     False     False  False          True  False"
      ]
     },
     "execution_count": 50,
     "metadata": {},
     "output_type": "execute_result"
    }
   ],
   "source": [
    "df.isnull()"
   ]
  },
  {
   "cell_type": "code",
   "execution_count": 51,
   "id": "8a6b8c91-5dcb-4a25-accb-536195857207",
   "metadata": {},
   "outputs": [
    {
     "data": {
      "text/html": [
       "<div>\n",
       "<style scoped>\n",
       "    .dataframe tbody tr th:only-of-type {\n",
       "        vertical-align: middle;\n",
       "    }\n",
       "\n",
       "    .dataframe tbody tr th {\n",
       "        vertical-align: top;\n",
       "    }\n",
       "\n",
       "    .dataframe thead th {\n",
       "        text-align: right;\n",
       "    }\n",
       "</style>\n",
       "<table border=\"1\" class=\"dataframe\">\n",
       "  <thead>\n",
       "    <tr style=\"text-align: right;\">\n",
       "      <th></th>\n",
       "      <th>Order_ID</th>\n",
       "      <th>Product</th>\n",
       "      <th>Category</th>\n",
       "      <th>Quantity</th>\n",
       "      <th>Price</th>\n",
       "      <th>Total_Amount</th>\n",
       "      <th>Date</th>\n",
       "    </tr>\n",
       "  </thead>\n",
       "  <tbody>\n",
       "    <tr>\n",
       "      <th>0</th>\n",
       "      <td>1001</td>\n",
       "      <td>Laptop</td>\n",
       "      <td>Electronics</td>\n",
       "      <td>2</td>\n",
       "      <td>700</td>\n",
       "      <td>0.0</td>\n",
       "      <td>2024-02-01</td>\n",
       "    </tr>\n",
       "    <tr>\n",
       "      <th>1</th>\n",
       "      <td>1002</td>\n",
       "      <td>Mobile Phone</td>\n",
       "      <td>Electronics</td>\n",
       "      <td>1</td>\n",
       "      <td>500</td>\n",
       "      <td>0.0</td>\n",
       "      <td>2024-02-02</td>\n",
       "    </tr>\n",
       "    <tr>\n",
       "      <th>2</th>\n",
       "      <td>1003</td>\n",
       "      <td>Headphones</td>\n",
       "      <td>Accessories</td>\n",
       "      <td>3</td>\n",
       "      <td>50</td>\n",
       "      <td>0.0</td>\n",
       "      <td>2024-02-03</td>\n",
       "    </tr>\n",
       "    <tr>\n",
       "      <th>3</th>\n",
       "      <td>1004</td>\n",
       "      <td>Mouse</td>\n",
       "      <td>Accessories</td>\n",
       "      <td>2</td>\n",
       "      <td>20</td>\n",
       "      <td>0.0</td>\n",
       "      <td>2024-02-04</td>\n",
       "    </tr>\n",
       "    <tr>\n",
       "      <th>4</th>\n",
       "      <td>1005</td>\n",
       "      <td>Keyboard</td>\n",
       "      <td>Accessories</td>\n",
       "      <td>1</td>\n",
       "      <td>30</td>\n",
       "      <td>0.0</td>\n",
       "      <td>2024-02-05</td>\n",
       "    </tr>\n",
       "    <tr>\n",
       "      <th>5</th>\n",
       "      <td>1006</td>\n",
       "      <td>T-shirt</td>\n",
       "      <td>Clothing</td>\n",
       "      <td>4</td>\n",
       "      <td>15</td>\n",
       "      <td>0.0</td>\n",
       "      <td>2024-02-06</td>\n",
       "    </tr>\n",
       "    <tr>\n",
       "      <th>6</th>\n",
       "      <td>1007</td>\n",
       "      <td>Jacket</td>\n",
       "      <td>Clothing</td>\n",
       "      <td>1</td>\n",
       "      <td>60</td>\n",
       "      <td>0.0</td>\n",
       "      <td>2024-02-07</td>\n",
       "    </tr>\n",
       "    <tr>\n",
       "      <th>7</th>\n",
       "      <td>1008</td>\n",
       "      <td>Refrigerator</td>\n",
       "      <td>Electronics</td>\n",
       "      <td>1</td>\n",
       "      <td>900</td>\n",
       "      <td>0.0</td>\n",
       "      <td>2024-02-08</td>\n",
       "    </tr>\n",
       "    <tr>\n",
       "      <th>8</th>\n",
       "      <td>1009</td>\n",
       "      <td>TV</td>\n",
       "      <td>Electronics</td>\n",
       "      <td>2</td>\n",
       "      <td>1100</td>\n",
       "      <td>0.0</td>\n",
       "      <td>2024-02-09</td>\n",
       "    </tr>\n",
       "    <tr>\n",
       "      <th>9</th>\n",
       "      <td>1010</td>\n",
       "      <td>Shoes</td>\n",
       "      <td>Clothing</td>\n",
       "      <td>2</td>\n",
       "      <td>40</td>\n",
       "      <td>0.0</td>\n",
       "      <td>2024-02-10</td>\n",
       "    </tr>\n",
       "  </tbody>\n",
       "</table>\n",
       "</div>"
      ],
      "text/plain": [
       "   Order_ID       Product     Category  Quantity  Price  Total_Amount  \\\n",
       "0      1001        Laptop  Electronics         2    700           0.0   \n",
       "1      1002  Mobile Phone  Electronics         1    500           0.0   \n",
       "2      1003    Headphones  Accessories         3     50           0.0   \n",
       "3      1004         Mouse  Accessories         2     20           0.0   \n",
       "4      1005      Keyboard  Accessories         1     30           0.0   \n",
       "5      1006       T-shirt     Clothing         4     15           0.0   \n",
       "6      1007        Jacket     Clothing         1     60           0.0   \n",
       "7      1008  Refrigerator  Electronics         1    900           0.0   \n",
       "8      1009            TV  Electronics         2   1100           0.0   \n",
       "9      1010         Shoes     Clothing         2     40           0.0   \n",
       "\n",
       "         Date  \n",
       "0  2024-02-01  \n",
       "1  2024-02-02  \n",
       "2  2024-02-03  \n",
       "3  2024-02-04  \n",
       "4  2024-02-05  \n",
       "5  2024-02-06  \n",
       "6  2024-02-07  \n",
       "7  2024-02-08  \n",
       "8  2024-02-09  \n",
       "9  2024-02-10  "
      ]
     },
     "execution_count": 51,
     "metadata": {},
     "output_type": "execute_result"
    }
   ],
   "source": [
    "df.fillna(0)"
   ]
  },
  {
   "cell_type": "code",
   "execution_count": 52,
   "id": "149c5553-102d-48c8-8e33-918523da811a",
   "metadata": {},
   "outputs": [
    {
     "data": {
      "text/plain": [
       "0    False\n",
       "1    False\n",
       "2    False\n",
       "3    False\n",
       "4    False\n",
       "5    False\n",
       "6    False\n",
       "7    False\n",
       "8    False\n",
       "9    False\n",
       "dtype: bool"
      ]
     },
     "execution_count": 52,
     "metadata": {},
     "output_type": "execute_result"
    }
   ],
   "source": [
    "df.duplicated()"
   ]
  },
  {
   "cell_type": "code",
   "execution_count": 53,
   "id": "9c76d453-523c-4d1a-8fab-95423d4d69aa",
   "metadata": {},
   "outputs": [
    {
     "data": {
      "text/plain": [
       "Order_ID          int64\n",
       "Product          object\n",
       "Category         object\n",
       "Quantity          int64\n",
       "Price             int64\n",
       "Total_Amount    float64\n",
       "Date             object\n",
       "dtype: object"
      ]
     },
     "execution_count": 53,
     "metadata": {},
     "output_type": "execute_result"
    }
   ],
   "source": [
    "df.dtypes"
   ]
  },
  {
   "cell_type": "code",
   "execution_count": 54,
   "id": "dbdb25e5-17e3-407f-b1f5-169ffa9ade4a",
   "metadata": {},
   "outputs": [],
   "source": [
    "df['Date']=pd.to_datetime(df['Date'])"
   ]
  },
  {
   "cell_type": "code",
   "execution_count": 55,
   "id": "4b4a66de-16a1-48e7-87e3-70be7e710b27",
   "metadata": {},
   "outputs": [
    {
     "data": {
      "text/plain": [
       "Order_ID                 int64\n",
       "Product                 object\n",
       "Category                object\n",
       "Quantity                 int64\n",
       "Price                    int64\n",
       "Total_Amount           float64\n",
       "Date            datetime64[ns]\n",
       "dtype: object"
      ]
     },
     "execution_count": 55,
     "metadata": {},
     "output_type": "execute_result"
    }
   ],
   "source": [
    "df.dtypes"
   ]
  },
  {
   "cell_type": "code",
   "execution_count": 60,
   "id": "d7067394-d8e9-4650-aebf-9a19989600db",
   "metadata": {},
   "outputs": [
    {
     "data": {
      "text/plain": [
       "str"
      ]
     },
     "execution_count": 60,
     "metadata": {},
     "output_type": "execute_result"
    }
   ],
   "source": [
    "type(\"HelloWorls\")"
   ]
  },
  {
   "cell_type": "code",
   "execution_count": 62,
   "id": "66ea17ee-8bfa-44cd-a7bb-d3627ae88283",
   "metadata": {},
   "outputs": [
    {
     "data": {
      "text/plain": [
       "Order_ID                 int64\n",
       "Product                 object\n",
       "Category                object\n",
       "Quantity                 int64\n",
       "Price                    int64\n",
       "Total_Amount           float64\n",
       "Date            datetime64[ns]\n",
       "dtype: object"
      ]
     },
     "execution_count": 62,
     "metadata": {},
     "output_type": "execute_result"
    }
   ],
   "source": [
    "df['Product'] = df['Product'].astype(str)\n",
    "df['Category'] = df['Category'].astype(str)\n",
    "df.dtypes"
   ]
  },
  {
   "cell_type": "code",
   "execution_count": 63,
   "id": "777d97c2-5e89-4aea-8432-365c1870c406",
   "metadata": {},
   "outputs": [
    {
     "data": {
      "text/plain": [
       "Order_ID                 int64\n",
       "Product                 object\n",
       "Category                object\n",
       "Quantity                 int64\n",
       "Price                    int64\n",
       "Total_Amount           float64\n",
       "Date            datetime64[ns]\n",
       "dtype: object"
      ]
     },
     "execution_count": 63,
     "metadata": {},
     "output_type": "execute_result"
    }
   ],
   "source": [
    "df['Product'] = df['Product'].astype(str)\n",
    "df.dtypes\n",
    "\n",
    "#for string "
   ]
  },
  {
   "cell_type": "code",
   "execution_count": 64,
   "id": "344f8286-e5b0-446f-86fb-7ef64e92bf77",
   "metadata": {},
   "outputs": [
    {
     "name": "stdout",
     "output_type": "stream",
     "text": [
      "Outliers:  [100]\n"
     ]
    }
   ],
   "source": [
    "data = np.array([10,12,14,15,18,21,25,100])\n",
    "\n",
    "Q1= np.percentile(data,25)\n",
    "Q3= np.percentile(data,75)\n",
    "\n",
    "IQR= Q3 - Q1\n",
    "\n",
    "lower_bound = Q1 - 1.5 * IQR\n",
    "upper_bound = Q3 + 1.5 * IQR\n",
    "\n",
    "outliers = data[(data < lower_bound) | ( data > upper_bound)]\n",
    "\n",
    "print(\"Outliers: \", outliers)"
   ]
  },
  {
   "cell_type": "code",
   "execution_count": 66,
   "id": "143e2b0c-b64f-4784-b7ca-28b3a680c1a5",
   "metadata": {},
   "outputs": [
    {
     "name": "stdout",
     "output_type": "stream",
     "text": [
      "matplotlib\n"
     ]
    }
   ],
   "source": [
    "import matplotlib.pyplot as plt\n",
    "print(plt.__package__)"
   ]
  },
  {
   "cell_type": "code",
   "execution_count": 68,
   "id": "dfa9a42c-fce2-4028-b060-0c7b2faf54b1",
   "metadata": {},
   "outputs": [
    {
     "data": {
      "image/png": "[encoded data removed]",
      "text/plain": [
       "<Figure size 640x480 with 1 Axes>"
      ]
     },
     "metadata": {},
     "output_type": "display_data"
    }
   ],
   "source": [
    "x = [1,2,3,4,5]\n",
    "y = [10,20,25,30,40]\n",
    "plt.plot(x,y, marker='o', linestyle = '-', color= 'b')\n",
    "plt.xlabel(\"X-axis Label\")\n",
    "plt.ylabel(\"Y-axis Lable\")\n",
    "plt.grid(True)\n",
    "plt.show()"
   ]
  },
  {
   "cell_type": "code",
   "execution_count": 70,
   "id": "3f0cea96-c56e-474f-9c68-a5b111725b84",
   "metadata": {},
   "outputs": [
    {
     "data": {
      "image/png": "[encoded data removed]",
      "text/plain": [
       "<Figure size 1000x600 with 1 Axes>"
      ]
     },
     "metadata": {},
     "output_type": "display_data"
    }
   ],
   "source": [
    "plt.figure(figsize=(10,6))\n",
    "x=[1,2,3,4,5]\n",
    "y=[10,20,25,30,40]\n",
    "plt.scatter(x,y,marker='*',color='r')\n",
    "plt.xlabel(\"X-axis\")\n",
    "plt.ylabel(\"Y-lable\")\n",
    "plt.title(\"Line Plot\")\n",
    "plt.grid()\n",
    "plt.show()\n",
    " "
   ]
  },
  {
   "cell_type": "code",
   "execution_count": 72,
   "id": "0520d2e5-01c0-400c-b0ac-ded60573587b",
   "metadata": {},
   "outputs": [
    {
     "data": {
      "image/png": "[encoded data removed]",
      "text/plain": [
       "<Figure size 640x480 with 1 Axes>"
      ]
     },
     "metadata": {},
     "output_type": "display_data"
    }
   ],
   "source": [
    "categories = ['A','B', 'C', 'D']\n",
    "values = [5, 7, 3, 8]\n",
    "\n",
    "plt.bar(categories, values, color='green')\n",
    "plt.xlabel(\"Categories\")\n",
    "plt.ylabel(\"Values\")\n",
    "plt.title(\"Bar graph\")\n",
    "plt.grid()\n",
    "plt.show()"
   ]
  },
  {
   "cell_type": "code",
   "execution_count": 74,
   "id": "1820897d-64f4-4fe4-ba78-085b32e14275",
   "metadata": {},
   "outputs": [
    {
     "data": {
      "image/png": "[encoded data removed]",
      "text/plain": [
       "<Figure size 640x480 with 1 Axes>"
      ]
     },
     "metadata": {},
     "output_type": "display_data"
    }
   ],
   "source": [
    "import numpy as np\n",
    "\n",
    "data = np.random.randn(1000)\n",
    "plt.hist(data , bins=30 , color=\"red\" ,edgecolor='blue')\n",
    "plt.xlabel(\"Bins\")\n",
    "plt.ylabel(\"Frequency\")\n",
    "plt.title(\"Histogram example\")\n",
    "plt.show()"
   ]
  },
  {
   "cell_type": "code",
   "execution_count": 79,
   "id": "a099305d-81f7-431f-a872-da8aa59f6ff1",
   "metadata": {},
   "outputs": [
    {
     "data": {
      "image/png": "[encoded data removed]",
      "text/plain": [
       "<Figure size 640x480 with 1 Axes>"
      ]
     },
     "metadata": {},
     "output_type": "display_data"
    }
   ],
   "source": [
    "#pie chart\n",
    "\n",
    "sizes=[20,30,40,50]\n",
    "\n",
    "labels=['JS','Java','DSA','Angular']\n",
    "\n",
    "colors=['blue','red','green','orange']\n",
    "\n",
    "plt.pie(sizes,labels=labels,colors=colors,autopct='%1.1f%%')\n",
    "\n",
    "plt.show()\n",
    " "
   ]
  },
  {
   "cell_type": "code",
   "execution_count": null,
   "id": "27427ff9-2adb-4892-80c7-1c5330927c05",
   "metadata": {},
   "outputs": [],
   "source": []
  }
 ],
 "metadata": {
  "kernelspec": {
   "display_name": "Python 3 (ipykernel)",
   "language": "python",
   "name": "python3"
  },
  "language_info": {
   "codemirror_mode": {
    "name": "ipython",
    "version": 3
   },
   "file_extension": ".py",
   "mimetype": "text/x-python",
   "name": "python",
   "nbconvert_exporter": "python",
   "pygments_lexer": "ipython3",
   "version": "3.13.2"
  }
 },
 "nbformat": 4,
 "nbformat_minor": 5
}
