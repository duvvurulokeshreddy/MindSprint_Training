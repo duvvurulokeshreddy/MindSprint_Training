{
 "cells": [
  {
   "cell_type": "code",
   "execution_count": 4,
   "id": "f8b0b1a5-e581-487b-8895-a960bfb71f33",
   "metadata": {},
   "outputs": [
    {
     "name": "stdout",
     "output_type": "stream",
     "text": [
      "   STUDENT_ID    Name  Math  Science  English  Total            Grade\n",
      "0           1  Felice    79       54     63.4  201.3          website\n",
      "1           2  Ruthie    29       24     26.9   15.4          product\n",
      "2           3  Nickie    85       10     51.5   39.6              hub\n",
      "3           4   Paule    91       48     97.9   37.2  standardization\n",
      "4           5  Ruthie    46       71     21.1  114.2      application\n"
     ]
    }
   ],
   "source": [
    "import pandas as pd \n",
    "df = pd.read_csv('Marks_data.csv')\n",
    "print(df.head())"
   ]
  },
  {
   "cell_type": "code",
   "execution_count": 34,
   "id": "56d83de3-91ee-4792-8b77-551d03bd74ac",
   "metadata": {},
   "outputs": [],
   "source": [
    "df.fillna(value = 0,inplace=True) "
   ]
  },
  {
   "cell_type": "code",
   "execution_count": 35,
   "id": "6b43c899-c752-44e7-acd3-d585098604ea",
   "metadata": {},
   "outputs": [
    {
     "data": {
      "text/html": [
       "<div>\n",
       "<style scoped>\n",
       "    .dataframe tbody tr th:only-of-type {\n",
       "        vertical-align: middle;\n",
       "    }\n",
       "\n",
       "    .dataframe tbody tr th {\n",
       "        vertical-align: top;\n",
       "    }\n",
       "\n",
       "    .dataframe thead th {\n",
       "        text-align: right;\n",
       "    }\n",
       "</style>\n",
       "<table border=\"1\" class=\"dataframe\">\n",
       "  <thead>\n",
       "    <tr style=\"text-align: right;\">\n",
       "      <th></th>\n",
       "      <th>STUDENT_ID</th>\n",
       "      <th>Name</th>\n",
       "      <th>Math</th>\n",
       "      <th>Science</th>\n",
       "      <th>English</th>\n",
       "      <th>Total</th>\n",
       "      <th>Grade</th>\n",
       "    </tr>\n",
       "  </thead>\n",
       "  <tbody>\n",
       "    <tr>\n",
       "      <th>0</th>\n",
       "      <td>False</td>\n",
       "      <td>False</td>\n",
       "      <td>False</td>\n",
       "      <td>False</td>\n",
       "      <td>False</td>\n",
       "      <td>False</td>\n",
       "      <td>False</td>\n",
       "    </tr>\n",
       "    <tr>\n",
       "      <th>1</th>\n",
       "      <td>False</td>\n",
       "      <td>False</td>\n",
       "      <td>False</td>\n",
       "      <td>False</td>\n",
       "      <td>False</td>\n",
       "      <td>False</td>\n",
       "      <td>False</td>\n",
       "    </tr>\n",
       "    <tr>\n",
       "      <th>2</th>\n",
       "      <td>False</td>\n",
       "      <td>False</td>\n",
       "      <td>False</td>\n",
       "      <td>False</td>\n",
       "      <td>False</td>\n",
       "      <td>False</td>\n",
       "      <td>False</td>\n",
       "    </tr>\n",
       "    <tr>\n",
       "      <th>3</th>\n",
       "      <td>False</td>\n",
       "      <td>False</td>\n",
       "      <td>False</td>\n",
       "      <td>False</td>\n",
       "      <td>False</td>\n",
       "      <td>False</td>\n",
       "      <td>False</td>\n",
       "    </tr>\n",
       "    <tr>\n",
       "      <th>4</th>\n",
       "      <td>False</td>\n",
       "      <td>False</td>\n",
       "      <td>False</td>\n",
       "      <td>False</td>\n",
       "      <td>False</td>\n",
       "      <td>False</td>\n",
       "      <td>False</td>\n",
       "    </tr>\n",
       "    <tr>\n",
       "      <th>...</th>\n",
       "      <td>...</td>\n",
       "      <td>...</td>\n",
       "      <td>...</td>\n",
       "      <td>...</td>\n",
       "      <td>...</td>\n",
       "      <td>...</td>\n",
       "      <td>...</td>\n",
       "    </tr>\n",
       "    <tr>\n",
       "      <th>995</th>\n",
       "      <td>False</td>\n",
       "      <td>False</td>\n",
       "      <td>False</td>\n",
       "      <td>False</td>\n",
       "      <td>False</td>\n",
       "      <td>False</td>\n",
       "      <td>False</td>\n",
       "    </tr>\n",
       "    <tr>\n",
       "      <th>996</th>\n",
       "      <td>False</td>\n",
       "      <td>False</td>\n",
       "      <td>False</td>\n",
       "      <td>False</td>\n",
       "      <td>False</td>\n",
       "      <td>False</td>\n",
       "      <td>False</td>\n",
       "    </tr>\n",
       "    <tr>\n",
       "      <th>997</th>\n",
       "      <td>False</td>\n",
       "      <td>False</td>\n",
       "      <td>False</td>\n",
       "      <td>False</td>\n",
       "      <td>False</td>\n",
       "      <td>False</td>\n",
       "      <td>False</td>\n",
       "    </tr>\n",
       "    <tr>\n",
       "      <th>998</th>\n",
       "      <td>False</td>\n",
       "      <td>False</td>\n",
       "      <td>False</td>\n",
       "      <td>False</td>\n",
       "      <td>False</td>\n",
       "      <td>False</td>\n",
       "      <td>False</td>\n",
       "    </tr>\n",
       "    <tr>\n",
       "      <th>999</th>\n",
       "      <td>False</td>\n",
       "      <td>False</td>\n",
       "      <td>False</td>\n",
       "      <td>False</td>\n",
       "      <td>False</td>\n",
       "      <td>False</td>\n",
       "      <td>False</td>\n",
       "    </tr>\n",
       "  </tbody>\n",
       "</table>\n",
       "<p>1000 rows × 7 columns</p>\n",
       "</div>"
      ],
      "text/plain": [
       "     STUDENT_ID   Name   Math  Science  English  Total  Grade\n",
       "0         False  False  False    False    False  False  False\n",
       "1         False  False  False    False    False  False  False\n",
       "2         False  False  False    False    False  False  False\n",
       "3         False  False  False    False    False  False  False\n",
       "4         False  False  False    False    False  False  False\n",
       "..          ...    ...    ...      ...      ...    ...    ...\n",
       "995       False  False  False    False    False  False  False\n",
       "996       False  False  False    False    False  False  False\n",
       "997       False  False  False    False    False  False  False\n",
       "998       False  False  False    False    False  False  False\n",
       "999       False  False  False    False    False  False  False\n",
       "\n",
       "[1000 rows x 7 columns]"
      ]
     },
     "execution_count": 35,
     "metadata": {},
     "output_type": "execute_result"
    }
   ],
   "source": [
    "df.isnull() #checking null"
   ]
  },
  {
   "cell_type": "code",
   "execution_count": 7,
   "id": "cf904278-cf73-43e2-85c2-dc965c899b88",
   "metadata": {},
   "outputs": [
    {
     "name": "stdout",
     "output_type": "stream",
     "text": [
      "     STUDENT_ID       Name  Math  Science  English  Total            Grade\n",
      "0             1     Felice    79       54     63.4  196.4          website\n",
      "1             2     Ruthie    29       24     26.9   79.9          product\n",
      "2             3     Nickie    85       10     51.5  146.5              hub\n",
      "3             4      Paule    91       48     97.9  236.9  standardization\n",
      "4             5     Ruthie    46       71     21.1  138.1      application\n",
      "..          ...        ...   ...      ...      ...    ...              ...\n",
      "995         996    Hershel    70       30     11.3  111.3  disintermediate\n",
      "996         997  Georgiana    38       91     73.7  202.7       background\n",
      "997         998       Nell    81       49     12.1  142.1         systemic\n",
      "998         999      Denys    16       49     39.0  104.0        challenge\n",
      "999        1000   Alphonse    46       69     69.6  184.6          circuit\n",
      "\n",
      "[1000 rows x 7 columns]\n"
     ]
    }
   ],
   "source": [
    "df['Total'] = df[['Math','Science','English']].sum(axis=1)\n",
    "print(df)"
   ]
  },
  {
   "cell_type": "code",
   "execution_count": 8,
   "id": "f0737ea6-4b0f-4baa-a258-7ab4e96f1c6d",
   "metadata": {},
   "outputs": [
    {
     "name": "stdout",
     "output_type": "stream",
     "text": [
      "   STUDENT_ID    Name  Math  Science  English  Total            Grade\n",
      "0           1  Felice    79       54     63.4  201.3          website\n",
      "1           2  Ruthie    29       24     26.9   15.4          product\n",
      "2           3  Nickie    85       10     51.5   39.6              hub\n",
      "3           4   Paule    91       48     97.9   37.2  standardization\n",
      "4           5  Ruthie    46       71     21.1  114.2      application\n",
      "STUDENT_ID         3\n",
      "Name          Nickie\n",
      "Math              85\n",
      "Science           10\n",
      "English         51.5\n",
      "Total           39.6\n",
      "Grade            hub\n",
      "Name: 2, dtype: object\n"
     ]
    }
   ],
   "source": [
    "import pandas as pd\n",
    "\n",
    "# Read the CSV file into a DataFrame\n",
    "df = pd.read_csv('Marks_data.csv')\n",
    "\n",
    "# Print the first few rows of the DataFrame\n",
    "print(df.head())\n",
    "\n",
    "# Print the details of a specific student by index\n",
    "# For example, to print the details of the student at index 2\n",
    "student_index = 2\n",
    "print(df.loc[student_index])\n"
   ]
  },
  {
   "cell_type": "code",
   "execution_count": 10,
   "id": "a06ffa6a-e875-43d9-9d9c-6adbb11bd163",
   "metadata": {},
   "outputs": [
    {
     "data": {
      "text/html": [
       "<div>\n",
       "<style scoped>\n",
       "    .dataframe tbody tr th:only-of-type {\n",
       "        vertical-align: middle;\n",
       "    }\n",
       "\n",
       "    .dataframe tbody tr th {\n",
       "        vertical-align: top;\n",
       "    }\n",
       "\n",
       "    .dataframe thead th {\n",
       "        text-align: right;\n",
       "    }\n",
       "</style>\n",
       "<table border=\"1\" class=\"dataframe\">\n",
       "  <thead>\n",
       "    <tr style=\"text-align: right;\">\n",
       "      <th></th>\n",
       "      <th>Name</th>\n",
       "      <th>Math</th>\n",
       "      <th>Science</th>\n",
       "      <th>English</th>\n",
       "      <th>Total</th>\n",
       "    </tr>\n",
       "  </thead>\n",
       "  <tbody>\n",
       "    <tr>\n",
       "      <th>0</th>\n",
       "      <td>Felice</td>\n",
       "      <td>79</td>\n",
       "      <td>54</td>\n",
       "      <td>63.4</td>\n",
       "      <td>196.4</td>\n",
       "    </tr>\n",
       "    <tr>\n",
       "      <th>1</th>\n",
       "      <td>Ruthie</td>\n",
       "      <td>29</td>\n",
       "      <td>24</td>\n",
       "      <td>26.9</td>\n",
       "      <td>79.9</td>\n",
       "    </tr>\n",
       "    <tr>\n",
       "      <th>2</th>\n",
       "      <td>Nickie</td>\n",
       "      <td>85</td>\n",
       "      <td>10</td>\n",
       "      <td>51.5</td>\n",
       "      <td>146.5</td>\n",
       "    </tr>\n",
       "    <tr>\n",
       "      <th>3</th>\n",
       "      <td>Paule</td>\n",
       "      <td>91</td>\n",
       "      <td>48</td>\n",
       "      <td>97.9</td>\n",
       "      <td>236.9</td>\n",
       "    </tr>\n",
       "    <tr>\n",
       "      <th>4</th>\n",
       "      <td>Ruthie</td>\n",
       "      <td>46</td>\n",
       "      <td>71</td>\n",
       "      <td>21.1</td>\n",
       "      <td>138.1</td>\n",
       "    </tr>\n",
       "  </tbody>\n",
       "</table>\n",
       "</div>"
      ],
      "text/plain": [
       "     Name  Math  Science  English  Total\n",
       "0  Felice    79       54     63.4  196.4\n",
       "1  Ruthie    29       24     26.9   79.9\n",
       "2  Nickie    85       10     51.5  146.5\n",
       "3   Paule    91       48     97.9  236.9\n",
       "4  Ruthie    46       71     21.1  138.1"
      ]
     },
     "execution_count": 10,
     "metadata": {},
     "output_type": "execute_result"
    }
   ],
   "source": [
    "df['Total'] = df[['Math','Science','English']].sum(axis=1)\n",
    "df[['Name', 'Math','Science','English','Total']].head()"
   ]
  },
  {
   "cell_type": "code",
   "execution_count": 17,
   "id": "a64d93dc-8ddf-4333-ac50-7c2259145da6",
   "metadata": {},
   "outputs": [
    {
     "name": "stdout",
     "output_type": "stream",
     "text": [
      "A\n",
      "---------------------\n",
      "          Name  Total Grade\n",
      "0       Felice  196.4     C\n",
      "1       Ruthie   79.9     D\n",
      "2       Nickie  146.5     D\n",
      "3        Paule  236.9     B\n",
      "4       Ruthie  138.1     D\n",
      "..         ...    ...   ...\n",
      "995    Hershel  111.3     D\n",
      "996  Georgiana  202.7     B\n",
      "997       Nell  142.1     D\n",
      "998      Denys  104.0     D\n",
      "999   Alphonse  184.6     C\n",
      "\n",
      "[1000 rows x 3 columns]\n"
     ]
    }
   ],
   "source": [
    "def assign_grade(total):\n",
    "    if total >=250:\n",
    "        return 'A'\n",
    "    elif total >=200:\n",
    "        return 'B'\n",
    "    elif total >=150:\n",
    "        return 'C'\n",
    "    else:\n",
    "        return 'D'\n",
    "print(assign_grade(300))\n",
    "print(\"---------------------\")\n",
    "df['Grade'] = df['Total'].apply(assign_grade)\n",
    " \n",
    "print(df[['Name','Total','Grade']])\n",
    " "
   ]
  },
  {
   "cell_type": "code",
   "execution_count": 18,
   "id": "6a05e99c-de7c-4ce0-abd4-2f9a1bd3b523",
   "metadata": {},
   "outputs": [
    {
     "data": {
      "text/html": [
       "<div>\n",
       "<style scoped>\n",
       "    .dataframe tbody tr th:only-of-type {\n",
       "        vertical-align: middle;\n",
       "    }\n",
       "\n",
       "    .dataframe tbody tr th {\n",
       "        vertical-align: top;\n",
       "    }\n",
       "\n",
       "    .dataframe thead th {\n",
       "        text-align: right;\n",
       "    }\n",
       "</style>\n",
       "<table border=\"1\" class=\"dataframe\">\n",
       "  <thead>\n",
       "    <tr style=\"text-align: right;\">\n",
       "      <th></th>\n",
       "      <th>Name</th>\n",
       "      <th>Total</th>\n",
       "      <th>Grade</th>\n",
       "    </tr>\n",
       "  </thead>\n",
       "  <tbody>\n",
       "    <tr>\n",
       "      <th>995</th>\n",
       "      <td>Hershel</td>\n",
       "      <td>111.3</td>\n",
       "      <td>D</td>\n",
       "    </tr>\n",
       "    <tr>\n",
       "      <th>996</th>\n",
       "      <td>Georgiana</td>\n",
       "      <td>202.7</td>\n",
       "      <td>B</td>\n",
       "    </tr>\n",
       "    <tr>\n",
       "      <th>997</th>\n",
       "      <td>Nell</td>\n",
       "      <td>142.1</td>\n",
       "      <td>D</td>\n",
       "    </tr>\n",
       "    <tr>\n",
       "      <th>998</th>\n",
       "      <td>Denys</td>\n",
       "      <td>104.0</td>\n",
       "      <td>D</td>\n",
       "    </tr>\n",
       "    <tr>\n",
       "      <th>999</th>\n",
       "      <td>Alphonse</td>\n",
       "      <td>184.6</td>\n",
       "      <td>C</td>\n",
       "    </tr>\n",
       "  </tbody>\n",
       "</table>\n",
       "</div>"
      ],
      "text/plain": [
       "          Name  Total Grade\n",
       "995    Hershel  111.3     D\n",
       "996  Georgiana  202.7     B\n",
       "997       Nell  142.1     D\n",
       "998      Denys  104.0     D\n",
       "999   Alphonse  184.6     C"
      ]
     },
     "execution_count": 18,
     "metadata": {},
     "output_type": "execute_result"
    }
   ],
   "source": [
    "df[['Name','Total','Grade']].tail()"
   ]
  },
  {
   "cell_type": "code",
   "execution_count": 20,
   "id": "d4d8aeda-257c-4b3e-bd5e-753383a8ca7f",
   "metadata": {},
   "outputs": [
    {
     "name": "stdout",
     "output_type": "stream",
     "text": [
      "     STUDENT_ID        Name  Math  Science  English  Total Grade\n",
      "27           28       Lisha    93       95     67.1  255.1     A\n",
      "50           51   Mackenzie    89       99     62.1  250.1     A\n",
      "94           95      Belvia    92       98     78.0  268.0     A\n",
      "118         119        Inga    84       83     90.5  257.5     A\n",
      "119         120       Wenda    88       69     94.3  251.3     A\n",
      "188         189      Mollee    75       98     95.6  268.6     A\n",
      "246         247     Wilfrid    78      100     95.9  273.9     A\n",
      "279         280  Georgeanna    93       92     66.5  251.5     A\n",
      "295         296       Eddie    86       87     91.8  264.8     A\n",
      "298         299     Keriann    83      100     83.8  266.8     A\n",
      "319         320     Merrili    86       94     94.2  274.2     A\n",
      "356         357       Grete    94       99     59.4  252.4     A\n",
      "503         504       Marve    80       98     83.8  261.8     A\n",
      "512         513        Oona    68       89     97.7  254.7     A\n",
      "517         518       Hynda    92       65     94.7  251.7     A\n",
      "619         620      Ailsun    92       89     93.0  274.0     A\n",
      "622         623     Basilio   100       97     69.5  266.5     A\n",
      "634         635     Vassili    88       94     85.7  267.7     A\n",
      "690         691       Perla    99      100     78.3  277.3     A\n",
      "750         751        Chad   100       67     94.1  261.1     A\n",
      "780         781      Gerard    99       94     67.7  260.7     A\n",
      "897         898       Dasya    85       94     87.2  266.2     A\n",
      "951         952         Ted    96       90     96.5  282.5     A\n",
      "970         971      Kristi    72       97     83.7  252.7     A\n"
     ]
    }
   ],
   "source": [
    "grade_a_students=df[df['Grade']=='A']\n",
    "print(grade_a_students)"
   ]
  },
  {
   "cell_type": "code",
   "execution_count": 21,
   "id": "a19b3ecd-97d7-40f9-ae57-f9f1deac02f6",
   "metadata": {},
   "outputs": [
    {
     "name": "stdout",
     "output_type": "stream",
     "text": [
      "No Of Studentssecured grade B: 149\n"
     ]
    }
   ],
   "source": [
    "grade_a_students=df[df['Grade']=='B']\n",
    "print('No Of Studentssecured grade B:',len(grade_a_students))"
   ]
  },
  {
   "cell_type": "code",
   "execution_count": 22,
   "id": "d7bb3417-ea46-4b3a-ae46-df78bbb9c19a",
   "metadata": {},
   "outputs": [
    {
     "name": "stdout",
     "output_type": "stream",
     "text": [
      "Total No Of Student failed: 518\n"
     ]
    }
   ],
   "source": [
    "print('Total No Of Student failed:' , len(df[df['Grade']=='D']))"
   ]
  },
  {
   "cell_type": "code",
   "execution_count": 29,
   "id": "da1035ea-47dc-43e6-b87a-a7ca035e6263",
   "metadata": {},
   "outputs": [
    {
     "name": "stdout",
     "output_type": "stream",
     "text": [
      "100\n"
     ]
    }
   ],
   "source": [
    "Math_max = max(df['Math'])\n",
    "print(Math_max)"
   ]
  },
  {
   "cell_type": "code",
   "execution_count": 30,
   "id": "cc260ab6-94b4-48d9-9037-297a8c42a80a",
   "metadata": {},
   "outputs": [
    {
     "name": "stdout",
     "output_type": "stream",
     "text": [
      "     STUDENT_ID      Name  Math  Science  English  Total Grade\n",
      "315         316     Susie   100       48     36.7  184.7     C\n",
      "326         327    Sallee   100        6     15.2  121.2     D\n",
      "342         343    Indira   100       28     83.1  211.1     B\n",
      "406         407  Maybelle   100       15     10.4  125.4     D\n",
      "454         455   Justino   100       48     58.9  206.9     B\n",
      "462         463   Eleanor   100       25      9.0  134.0     D\n",
      "622         623   Basilio   100       97     69.5  266.5     A\n",
      "750         751      Chad   100       67     94.1  261.1     A\n",
      "854         855   Abigael   100       48     60.6  208.6     B\n",
      "987         988      Isac   100       78     54.3  232.3     B\n"
     ]
    }
   ],
   "source": [
    "print(df[df['Math'] == Math_max])"
   ]
  },
  {
   "cell_type": "code",
   "execution_count": 32,
   "id": "7d8bacd4-b872-4ff5-8ca1-d00ec039e317",
   "metadata": {},
   "outputs": [
    {
     "name": "stdout",
     "output_type": "stream",
     "text": [
      "File is Created\n"
     ]
    }
   ],
   "source": [
    "df.to_csv(\"result.csv\",index=False)\n",
    "print(\"File is Created\")"
   ]
  },
  {
   "cell_type": "code",
   "execution_count": null,
   "id": "142a0f33-a214-4bb7-91bf-8a76c85afe83",
   "metadata": {},
   "outputs": [],
   "source": []
  }
 ],
 "metadata": {
  "kernelspec": {
   "display_name": "Python 3 (ipykernel)",
   "language": "python",
   "name": "python3"
  },
  "language_info": {
   "codemirror_mode": {
    "name": "ipython",
    "version": 3
   },
   "file_extension": ".py",
   "mimetype": "text/x-python",
   "name": "python",
   "nbconvert_exporter": "python",
   "pygments_lexer": "ipython3",
   "version": "3.13.2"
  }
 },
 "nbformat": 4,
 "nbformat_minor": 5
}
